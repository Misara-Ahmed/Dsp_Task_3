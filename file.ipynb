{
 "cells": [
  {
   "cell_type": "code",
   "execution_count": 41,
   "metadata": {},
   "outputs": [],
   "source": [
    "import librosa as librosa\n",
    "import librosa.display\n",
    "import IPython.display as ipd\n",
    "import numpy as np\n",
    "import csv\n",
    "import pandas as pd\n",
    "import matplotlib.pyplot as plt\n",
    "import numpy as np\n",
    "from sklearn.model_selection import train_test_split\n",
    "from sklearn import svm\n",
    "from sklearn.metrics import classification_report\n",
    "import librosa\n",
    "from sklearn.svm import SVC \n",
    "from sklearn import preprocessing\n",
    "from sklearn.metrics import classification_report, confusion_matrix\n"
   ]
  },
  {
   "cell_type": "code",
   "execution_count": 42,
   "metadata": {},
   "outputs": [],
   "source": [
    "\n",
    "header = 'filename rmse spectral_centroid spectral_bandwidth rolloff zero_crossing_rate'\n",
    "\n",
    "for i in range(1, 40):\n",
    "    header += f' mfcc{i}'\n",
    "header = header.split()\n",
    "# print('CSV Header: ', header)\n",
    "file = open(\"data.csv\", 'w', newline='')\n",
    "writer = csv.writer(file)\n",
    "writer.writerow(header)\n",
    "file.close()\n",
    "\n",
    "\n",
    "def writeCsv(data):\n",
    "    file = open(\"data.csv\", 'a', newline='')\n",
    "    writer = csv.writer(file)\n",
    "    writer.writerow(data.split(\",\"))\n",
    "    file.close()\n",
    "\n",
    "\n",
    "\n",
    "def feature_extraction(file_path):\n",
    "    # iterate through all file\n",
    "        y, sr = librosa.load(file_path, mono=True, duration=30)\n",
    "            # remove leading and trailing silence\n",
    "        y, index = librosa.effects.trim(y)\n",
    "        # chroma_stft = librosa.feature.chroma_stft(y=y, sr=sr)\n",
    "        rmse = librosa.feature.rms(y=y)\n",
    "        spec_cent = librosa.feature.spectral_centroid(y=y, sr=sr)\n",
    "        spec_bw = librosa.feature.spectral_bandwidth(y=y, sr=sr)\n",
    "        rolloff = librosa.feature.spectral_rolloff(y=y, sr=sr)\n",
    "        zcr = librosa.feature.zero_crossing_rate(y)\n",
    "        mfcc = librosa.feature.mfcc(y=y, sr=sr,n_mfcc=39)\n",
    "        to_append = f'{file},{np.mean(rmse)},{np.mean(spec_cent)},{np.mean(spec_bw)},{np.mean(rolloff)},{np.mean(zcr)}'\n",
    "        for e in mfcc:\n",
    "            to_append += f',{np.mean(e)}'\n",
    "        \n",
    "        writeCsv(to_append)\n",
    "        return to_append\n",
    "\n",
    "to_append =[]\n",
    "\n",
    "\n",
    "\n",
    "\n",
    "\n",
    "path ='./Wav/Train_2/'\n",
    "\n",
    "for file in os.listdir(path):\n",
    "    # print(file)\n",
    "    file_path = f\"{path}\\{file}\"  \n",
    "    data = feature_extraction(file_path)\n",
    "\n",
    "\n",
    "\n",
    "\n",
    "\n",
    "\n",
    "\n",
    "\n",
    "    "
   ]
  },
  {
   "cell_type": "code",
   "execution_count": 43,
   "metadata": {},
   "outputs": [],
   "source": [
    "def feature_extraction_array(file_path):\n",
    "    to_append =[]\n",
    "    # iterate through all file\n",
    "    y, sr = librosa.load(file_path, mono=True, duration=30)\n",
    "        # remove leading and trailing silence\n",
    "    y, index = librosa.effects.trim(y)\n",
    "    # chroma_stft = librosa.feature.chroma_stft(y=y, sr=sr)\n",
    "    rmse = librosa.feature.rms(y=y)\n",
    "    spec_cent = librosa.feature.spectral_centroid(y=y, sr=sr)\n",
    "    spec_bw = librosa.feature.spectral_bandwidth(y=y, sr=sr)\n",
    "    rolloff = librosa.feature.spectral_rolloff(y=y, sr=sr)\n",
    "    zcr = librosa.feature.zero_crossing_rate(y)\n",
    "    mfcc = librosa.feature.mfcc(y=y, sr=sr,n_mfcc=39)\n",
    "    to_append.append(np.mean(rmse))\n",
    "    to_append.append(np.mean(spec_cent))\n",
    "    to_append.append(np.mean(spec_bw))\n",
    "    to_append.append(np.mean(rolloff))\n",
    "    to_append.append(np.mean(zcr))\n",
    "    for e in mfcc:\n",
    "        to_append.append(np.mean(e))\n",
    "    return to_append\n",
    "    \n",
    "    \n",
    "def preProcessing(csvName):\n",
    "    data = pd.read_csv(csvName)\n",
    "    audioName = data['filename']\n",
    "    speakerNumber = []\n",
    "    for i in range(len(audioName)):\n",
    "        speakerLetter = audioName[i][0]\n",
    "        #Shrouk----2\n",
    "        #Rawda---0\n",
    "        #Habiba---1\n",
    "        if speakerLetter == \"A\":\n",
    "            speakerLetter = \"0\"\n",
    "        elif speakerLetter ==\"H\":\n",
    "            speakerLetter=\"1\"\n",
    "        elif speakerLetter == \"M\":\n",
    "            speakerLetter = \"2\"\n",
    "        elif speakerLetter ==\"Y\":\n",
    "            speakerLetter = \"3\"\n",
    "        else:\n",
    "            speakerLetter = \"4\"\n",
    "        speakerNumber.append(speakerLetter)\n",
    "\n",
    "    data = data.drop(['filename'],axis=1)\n",
    "\n",
    "\n",
    "    print(data.tail())\n",
    "    \n",
    "    return data, speakerNumber\n"
   ]
  },
  {
   "cell_type": "markdown",
   "metadata": {},
   "source": [
    "***Speaker Recognition***"
   ]
  },
  {
   "cell_type": "code",
   "execution_count": 44,
   "metadata": {},
   "outputs": [
    {
     "name": "stdout",
     "output_type": "stream",
     "text": [
      "        rmse  spectral_centroid  spectral_bandwidth      rolloff  \\\n",
      "37  0.013293        2649.866632         2092.284144  5040.411894   \n",
      "38  0.012756        2573.992811         2041.769303  4744.715465   \n",
      "39  0.010821        2414.947596         1948.162513  4413.985250   \n",
      "40  0.010712        2473.364151         1999.682209  4546.398379   \n",
      "41  0.013799        2216.317597         1815.950663  4019.774563   \n",
      "\n",
      "    zero_crossing_rate       mfcc1       mfcc2     mfcc3      mfcc4  \\\n",
      "37            0.193575 -512.373047   82.252724 -5.832910  20.100780   \n",
      "38            0.199942 -530.374573   81.688698  4.311122  13.437059   \n",
      "39            0.186392 -525.386292   84.499336  2.854430  17.898985   \n",
      "40            0.189912 -533.232849   88.442421  4.224247  22.496590   \n",
      "41            0.160562 -510.668365  101.569267  5.563087  21.911745   \n",
      "\n",
      "        mfcc5  ...    mfcc30    mfcc31    mfcc32    mfcc33    mfcc34  \\\n",
      "37 -14.369832  ... -2.343000 -4.666240 -3.466050 -1.153331 -4.116298   \n",
      "38 -14.103704  ... -2.683601 -3.077751 -1.343539 -1.769085 -2.557812   \n",
      "39 -11.158478  ... -1.294867 -2.615840 -2.954299 -1.109096 -2.265272   \n",
      "40 -11.616632  ... -2.515193 -2.299591 -1.911822 -1.609220 -2.083153   \n",
      "41 -13.918967  ... -2.104763 -2.974765 -1.317278 -2.284236 -2.628702   \n",
      "\n",
      "      mfcc35    mfcc36    mfcc37    mfcc38    mfcc39  \n",
      "37 -3.174556 -2.373090 -1.244268 -1.873909 -2.115893  \n",
      "38 -1.893436 -2.273179 -2.308369 -1.701279 -1.937179  \n",
      "39 -2.055825 -1.653304 -2.433118 -2.240486 -1.436636  \n",
      "40 -1.330453 -1.164901 -2.253354 -2.318307 -2.064871  \n",
      "41 -1.468924 -1.449684 -1.996747 -2.075969 -3.119942  \n",
      "\n",
      "[5 rows x 44 columns]\n"
     ]
    }
   ],
   "source": [
    "data, number = preProcessing(\"data.csv\")\n"
   ]
  },
  {
   "cell_type": "code",
   "execution_count": 45,
   "metadata": {},
   "outputs": [],
   "source": [
    "X= np.array(data)\n",
    "\n",
    "y=np.asarray(number)"
   ]
  },
  {
   "cell_type": "code",
   "execution_count": 46,
   "metadata": {},
   "outputs": [],
   "source": [
    "X_train, X_test, y_train, y_test = train_test_split(\n",
    "        X, y, test_size=0.2, random_state=123\n",
    "    )\n"
   ]
  },
  {
   "cell_type": "code",
   "execution_count": 47,
   "metadata": {},
   "outputs": [],
   "source": [
    "svm_model= svm.SVC(kernel='linear' , C=0.001)\n",
    "svm_model.fit(X_train, y_train) \n",
    "\n",
    "y_pred = svm_model.predict(X_test)\n",
    "\n"
   ]
  },
  {
   "cell_type": "code",
   "execution_count": 8,
   "metadata": {},
   "outputs": [
    {
     "name": "stderr",
     "output_type": "stream",
     "text": [
      "c:\\Users\\User\\AppData\\Local\\Programs\\Python\\Python38\\lib\\site-packages\\librosa\\util\\decorators.py:88: UserWarning: PySoundFile failed. Trying audioread instead.\n",
      "  return f(*args, **kwargs)\n"
     ]
    },
    {
     "ename": "FileNotFoundError",
     "evalue": "[Errno 2] No such file or directory: 'Sara-11.wav'",
     "output_type": "error",
     "traceback": [
      "\u001b[1;31m---------------------------------------------------------------------------\u001b[0m",
      "\u001b[1;31mLibsndfileError\u001b[0m                           Traceback (most recent call last)",
      "File \u001b[1;32mc:\\Users\\User\\AppData\\Local\\Programs\\Python\\Python38\\lib\\site-packages\\librosa\\core\\audio.py:164\u001b[0m, in \u001b[0;36mload\u001b[1;34m(path, sr, mono, offset, duration, dtype, res_type)\u001b[0m\n\u001b[0;32m    163\u001b[0m \u001b[39mtry\u001b[39;00m:\n\u001b[1;32m--> 164\u001b[0m     y, sr_native \u001b[39m=\u001b[39m __soundfile_load(path, offset, duration, dtype)\n\u001b[0;32m    166\u001b[0m \u001b[39mexcept\u001b[39;00m \u001b[39mRuntimeError\u001b[39;00m \u001b[39mas\u001b[39;00m exc:\n\u001b[0;32m    167\u001b[0m     \u001b[39m# If soundfile failed, try audioread instead\u001b[39;00m\n",
      "File \u001b[1;32mc:\\Users\\User\\AppData\\Local\\Programs\\Python\\Python38\\lib\\site-packages\\librosa\\core\\audio.py:195\u001b[0m, in \u001b[0;36m__soundfile_load\u001b[1;34m(path, offset, duration, dtype)\u001b[0m\n\u001b[0;32m    193\u001b[0m \u001b[39melse\u001b[39;00m:\n\u001b[0;32m    194\u001b[0m     \u001b[39m# Otherwise, create the soundfile object\u001b[39;00m\n\u001b[1;32m--> 195\u001b[0m     context \u001b[39m=\u001b[39m sf\u001b[39m.\u001b[39;49mSoundFile(path)\n\u001b[0;32m    197\u001b[0m \u001b[39mwith\u001b[39;00m context \u001b[39mas\u001b[39;00m sf_desc:\n",
      "File \u001b[1;32mc:\\Users\\User\\AppData\\Local\\Programs\\Python\\Python38\\lib\\site-packages\\soundfile.py:655\u001b[0m, in \u001b[0;36mSoundFile.__init__\u001b[1;34m(self, file, mode, samplerate, channels, subtype, endian, format, closefd)\u001b[0m\n\u001b[0;32m    653\u001b[0m \u001b[39mself\u001b[39m\u001b[39m.\u001b[39m_info \u001b[39m=\u001b[39m _create_info_struct(file, mode, samplerate, channels,\n\u001b[0;32m    654\u001b[0m                                  \u001b[39mformat\u001b[39m, subtype, endian)\n\u001b[1;32m--> 655\u001b[0m \u001b[39mself\u001b[39m\u001b[39m.\u001b[39m_file \u001b[39m=\u001b[39m \u001b[39mself\u001b[39;49m\u001b[39m.\u001b[39;49m_open(file, mode_int, closefd)\n\u001b[0;32m    656\u001b[0m \u001b[39mif\u001b[39;00m \u001b[39mset\u001b[39m(mode)\u001b[39m.\u001b[39missuperset(\u001b[39m'\u001b[39m\u001b[39mr+\u001b[39m\u001b[39m'\u001b[39m) \u001b[39mand\u001b[39;00m \u001b[39mself\u001b[39m\u001b[39m.\u001b[39mseekable():\n\u001b[0;32m    657\u001b[0m     \u001b[39m# Move write position to 0 (like in Python file objects)\u001b[39;00m\n",
      "File \u001b[1;32mc:\\Users\\User\\AppData\\Local\\Programs\\Python\\Python38\\lib\\site-packages\\soundfile.py:1213\u001b[0m, in \u001b[0;36mSoundFile._open\u001b[1;34m(self, file, mode_int, closefd)\u001b[0m\n\u001b[0;32m   1212\u001b[0m     err \u001b[39m=\u001b[39m _snd\u001b[39m.\u001b[39msf_error(file_ptr)\n\u001b[1;32m-> 1213\u001b[0m     \u001b[39mraise\u001b[39;00m LibsndfileError(err, prefix\u001b[39m=\u001b[39m\u001b[39m\"\u001b[39m\u001b[39mError opening \u001b[39m\u001b[39m{0!r}\u001b[39;00m\u001b[39m: \u001b[39m\u001b[39m\"\u001b[39m\u001b[39m.\u001b[39mformat(\u001b[39mself\u001b[39m\u001b[39m.\u001b[39mname))\n\u001b[0;32m   1214\u001b[0m \u001b[39mif\u001b[39;00m mode_int \u001b[39m==\u001b[39m _snd\u001b[39m.\u001b[39mSFM_WRITE:\n\u001b[0;32m   1215\u001b[0m     \u001b[39m# Due to a bug in libsndfile version <= 1.0.25, frames != 0\u001b[39;00m\n\u001b[0;32m   1216\u001b[0m     \u001b[39m# when opening a named pipe in SFM_WRITE mode.\u001b[39;00m\n\u001b[0;32m   1217\u001b[0m     \u001b[39m# See http://github.com/erikd/libsndfile/issues/77.\u001b[39;00m\n",
      "\u001b[1;31mLibsndfileError\u001b[0m: Error opening 'Sara-11.wav': System error.",
      "\nDuring handling of the above exception, another exception occurred:\n",
      "\u001b[1;31mFileNotFoundError\u001b[0m                         Traceback (most recent call last)",
      "\u001b[1;32mg:\\SBME\\Third year\\First term\\DSP\\Tasks\\Dsp_Task_3\\file.ipynb Cell 9\u001b[0m in \u001b[0;36m<cell line: 1>\u001b[1;34m()\u001b[0m\n\u001b[1;32m----> <a href='vscode-notebook-cell:/g%3A/SBME/Third%20year/First%20term/DSP/Tasks/Dsp_Task_3/file.ipynb#X11sZmlsZQ%3D%3D?line=0'>1</a>\u001b[0m testing \u001b[39m=\u001b[39m feature_extraction_array(\u001b[39m'\u001b[39;49m\u001b[39mSara-11.wav\u001b[39;49m\u001b[39m'\u001b[39;49m)\n\u001b[0;32m      <a href='vscode-notebook-cell:/g%3A/SBME/Third%20year/First%20term/DSP/Tasks/Dsp_Task_3/file.ipynb#X11sZmlsZQ%3D%3D?line=1'>2</a>\u001b[0m y_predict \u001b[39m=\u001b[39m svm_model\u001b[39m.\u001b[39mpredict([testing])\n\u001b[0;32m      <a href='vscode-notebook-cell:/g%3A/SBME/Third%20year/First%20term/DSP/Tasks/Dsp_Task_3/file.ipynb#X11sZmlsZQ%3D%3D?line=5'>6</a>\u001b[0m \u001b[39mprint\u001b[39m(y_predict)\n",
      "\u001b[1;32mg:\\SBME\\Third year\\First term\\DSP\\Tasks\\Dsp_Task_3\\file.ipynb Cell 9\u001b[0m in \u001b[0;36mfeature_extraction_array\u001b[1;34m(file_path)\u001b[0m\n\u001b[0;32m      <a href='vscode-notebook-cell:/g%3A/SBME/Third%20year/First%20term/DSP/Tasks/Dsp_Task_3/file.ipynb#X11sZmlsZQ%3D%3D?line=1'>2</a>\u001b[0m to_append \u001b[39m=\u001b[39m[]\n\u001b[0;32m      <a href='vscode-notebook-cell:/g%3A/SBME/Third%20year/First%20term/DSP/Tasks/Dsp_Task_3/file.ipynb#X11sZmlsZQ%3D%3D?line=2'>3</a>\u001b[0m \u001b[39m# iterate through all file\u001b[39;00m\n\u001b[1;32m----> <a href='vscode-notebook-cell:/g%3A/SBME/Third%20year/First%20term/DSP/Tasks/Dsp_Task_3/file.ipynb#X11sZmlsZQ%3D%3D?line=3'>4</a>\u001b[0m y, sr \u001b[39m=\u001b[39m librosa\u001b[39m.\u001b[39;49mload(file_path, mono\u001b[39m=\u001b[39;49m\u001b[39mTrue\u001b[39;49;00m, duration\u001b[39m=\u001b[39;49m\u001b[39m30\u001b[39;49m)\n\u001b[0;32m      <a href='vscode-notebook-cell:/g%3A/SBME/Third%20year/First%20term/DSP/Tasks/Dsp_Task_3/file.ipynb#X11sZmlsZQ%3D%3D?line=4'>5</a>\u001b[0m     \u001b[39m# remove leading and trailing silence\u001b[39;00m\n\u001b[0;32m      <a href='vscode-notebook-cell:/g%3A/SBME/Third%20year/First%20term/DSP/Tasks/Dsp_Task_3/file.ipynb#X11sZmlsZQ%3D%3D?line=5'>6</a>\u001b[0m y, index \u001b[39m=\u001b[39m librosa\u001b[39m.\u001b[39meffects\u001b[39m.\u001b[39mtrim(y)\n",
      "File \u001b[1;32mc:\\Users\\User\\AppData\\Local\\Programs\\Python\\Python38\\lib\\site-packages\\librosa\\util\\decorators.py:88\u001b[0m, in \u001b[0;36mdeprecate_positional_args.<locals>._inner_deprecate_positional_args.<locals>.inner_f\u001b[1;34m(*args, **kwargs)\u001b[0m\n\u001b[0;32m     86\u001b[0m extra_args \u001b[39m=\u001b[39m \u001b[39mlen\u001b[39m(args) \u001b[39m-\u001b[39m \u001b[39mlen\u001b[39m(all_args)\n\u001b[0;32m     87\u001b[0m \u001b[39mif\u001b[39;00m extra_args \u001b[39m<\u001b[39m\u001b[39m=\u001b[39m \u001b[39m0\u001b[39m:\n\u001b[1;32m---> 88\u001b[0m     \u001b[39mreturn\u001b[39;00m f(\u001b[39m*\u001b[39;49margs, \u001b[39m*\u001b[39;49m\u001b[39m*\u001b[39;49mkwargs)\n\u001b[0;32m     90\u001b[0m \u001b[39m# extra_args > 0\u001b[39;00m\n\u001b[0;32m     91\u001b[0m args_msg \u001b[39m=\u001b[39m [\n\u001b[0;32m     92\u001b[0m     \u001b[39m\"\u001b[39m\u001b[39m{}\u001b[39;00m\u001b[39m=\u001b[39m\u001b[39m{}\u001b[39;00m\u001b[39m\"\u001b[39m\u001b[39m.\u001b[39mformat(name, arg)\n\u001b[0;32m     93\u001b[0m     \u001b[39mfor\u001b[39;00m name, arg \u001b[39min\u001b[39;00m \u001b[39mzip\u001b[39m(kwonly_args[:extra_args], args[\u001b[39m-\u001b[39mextra_args:])\n\u001b[0;32m     94\u001b[0m ]\n",
      "File \u001b[1;32mc:\\Users\\User\\AppData\\Local\\Programs\\Python\\Python38\\lib\\site-packages\\librosa\\core\\audio.py:170\u001b[0m, in \u001b[0;36mload\u001b[1;34m(path, sr, mono, offset, duration, dtype, res_type)\u001b[0m\n\u001b[0;32m    168\u001b[0m \u001b[39mif\u001b[39;00m \u001b[39misinstance\u001b[39m(path, (\u001b[39mstr\u001b[39m, pathlib\u001b[39m.\u001b[39mPurePath)):\n\u001b[0;32m    169\u001b[0m     warnings\u001b[39m.\u001b[39mwarn(\u001b[39m\"\u001b[39m\u001b[39mPySoundFile failed. Trying audioread instead.\u001b[39m\u001b[39m\"\u001b[39m, stacklevel\u001b[39m=\u001b[39m\u001b[39m2\u001b[39m)\n\u001b[1;32m--> 170\u001b[0m     y, sr_native \u001b[39m=\u001b[39m __audioread_load(path, offset, duration, dtype)\n\u001b[0;32m    171\u001b[0m \u001b[39melse\u001b[39;00m:\n\u001b[0;32m    172\u001b[0m     \u001b[39mraise\u001b[39;00m exc\n",
      "File \u001b[1;32mc:\\Users\\User\\AppData\\Local\\Programs\\Python\\Python38\\lib\\site-packages\\librosa\\core\\audio.py:226\u001b[0m, in \u001b[0;36m__audioread_load\u001b[1;34m(path, offset, duration, dtype)\u001b[0m\n\u001b[0;32m    223\u001b[0m     reader \u001b[39m=\u001b[39m path\n\u001b[0;32m    224\u001b[0m \u001b[39melse\u001b[39;00m:\n\u001b[0;32m    225\u001b[0m     \u001b[39m# If the input was not an audioread object, try to open it\u001b[39;00m\n\u001b[1;32m--> 226\u001b[0m     reader \u001b[39m=\u001b[39m audioread\u001b[39m.\u001b[39;49maudio_open(path)\n\u001b[0;32m    228\u001b[0m \u001b[39mwith\u001b[39;00m reader \u001b[39mas\u001b[39;00m input_file:\n\u001b[0;32m    229\u001b[0m     sr_native \u001b[39m=\u001b[39m input_file\u001b[39m.\u001b[39msamplerate\n",
      "File \u001b[1;32mc:\\Users\\User\\AppData\\Local\\Programs\\Python\\Python38\\lib\\site-packages\\audioread\\__init__.py:127\u001b[0m, in \u001b[0;36maudio_open\u001b[1;34m(path, backends)\u001b[0m\n\u001b[0;32m    125\u001b[0m \u001b[39mfor\u001b[39;00m BackendClass \u001b[39min\u001b[39;00m backends:\n\u001b[0;32m    126\u001b[0m     \u001b[39mtry\u001b[39;00m:\n\u001b[1;32m--> 127\u001b[0m         \u001b[39mreturn\u001b[39;00m BackendClass(path)\n\u001b[0;32m    128\u001b[0m     \u001b[39mexcept\u001b[39;00m DecodeError:\n\u001b[0;32m    129\u001b[0m         \u001b[39mpass\u001b[39;00m\n",
      "File \u001b[1;32mc:\\Users\\User\\AppData\\Local\\Programs\\Python\\Python38\\lib\\site-packages\\audioread\\rawread.py:59\u001b[0m, in \u001b[0;36mRawAudioFile.__init__\u001b[1;34m(self, filename)\u001b[0m\n\u001b[0;32m     58\u001b[0m \u001b[39mdef\u001b[39;00m \u001b[39m__init__\u001b[39m(\u001b[39mself\u001b[39m, filename):\n\u001b[1;32m---> 59\u001b[0m     \u001b[39mself\u001b[39m\u001b[39m.\u001b[39m_fh \u001b[39m=\u001b[39m \u001b[39mopen\u001b[39;49m(filename, \u001b[39m'\u001b[39;49m\u001b[39mrb\u001b[39;49m\u001b[39m'\u001b[39;49m)\n\u001b[0;32m     61\u001b[0m     \u001b[39mtry\u001b[39;00m:\n\u001b[0;32m     62\u001b[0m         \u001b[39mself\u001b[39m\u001b[39m.\u001b[39m_file \u001b[39m=\u001b[39m aifc\u001b[39m.\u001b[39mopen(\u001b[39mself\u001b[39m\u001b[39m.\u001b[39m_fh)\n",
      "\u001b[1;31mFileNotFoundError\u001b[0m: [Errno 2] No such file or directory: 'Sara-11.wav'"
     ]
    }
   ],
   "source": [
    "testing = feature_extraction_array('Sara-11.wav')\n",
    "y_predict = svm_model.predict([testing])\n",
    "\n",
    "\n",
    "\n",
    "print(y_predict)\n"
   ]
  },
  {
   "cell_type": "code",
   "execution_count": 48,
   "metadata": {},
   "outputs": [
    {
     "name": "stdout",
     "output_type": "stream",
     "text": [
      "  Train model accuracy = 1e+02 %\n",
      "  Test model accuracy = 88.9 %\n"
     ]
    }
   ],
   "source": [
    "from sklearn import metrics\n",
    "y_pred_t = svm_model.predict(X_train)\n",
    "accuracy_t = metrics.accuracy_score(y_train,y_pred_t)\n",
    "\n",
    "\n",
    "print(f\"  Train model accuracy = {100* accuracy_t:.3} %\")\n",
    "accuracy = metrics.accuracy_score(y_test,y_pred)\n",
    "\n",
    "\n",
    "print(f\"  Test model accuracy = {100* accuracy:.3} %\")\n"
   ]
  },
  {
   "cell_type": "markdown",
   "metadata": {},
   "source": [
    "***Spoken Digit Recognition***"
   ]
  },
  {
   "cell_type": "code",
   "execution_count": null,
   "metadata": {},
   "outputs": [],
   "source": []
  }
 ],
 "metadata": {
  "kernelspec": {
   "display_name": "Python 3.8.3 64-bit",
   "language": "python",
   "name": "python3"
  },
  "language_info": {
   "codemirror_mode": {
    "name": "ipython",
    "version": 3
   },
   "file_extension": ".py",
   "mimetype": "text/x-python",
   "name": "python",
   "nbconvert_exporter": "python",
   "pygments_lexer": "ipython3",
   "version": "3.8.3"
  },
  "orig_nbformat": 4,
  "vscode": {
   "interpreter": {
    "hash": "f544ce1a915a9875fad91c894e2c0bcad4b7a79945aa6027ef3ad27810072aa6"
   }
  }
 },
 "nbformat": 4,
 "nbformat_minor": 2
}
