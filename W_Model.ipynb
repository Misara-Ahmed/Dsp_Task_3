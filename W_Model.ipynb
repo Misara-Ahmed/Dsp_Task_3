{
 "cells": [
  {
   "cell_type": "code",
   "execution_count": 1,
   "metadata": {},
   "outputs": [
    {
     "name": "stderr",
     "output_type": "stream",
     "text": [
      "c:\\Users\\User\\AppData\\Local\\Programs\\Python\\Python38\\lib\\site-packages\\pydub\\utils.py:170: RuntimeWarning: Couldn't find ffmpeg or avconv - defaulting to ffmpeg, but may not work\n",
      "  warn(\"Couldn't find ffmpeg or avconv - defaulting to ffmpeg, but may not work\", RuntimeWarning)\n"
     ]
    }
   ],
   "source": [
    "import librosa.display\n",
    "import IPython.display as ipd\n",
    "import numpy as np\n",
    "import csv\n",
    "import pandas as pd\n",
    "import matplotlib.pyplot as plt\n",
    "import numpy as np\n",
    "from sklearn.model_selection import train_test_split\n",
    "from sklearn import svm\n",
    "from sklearn.metrics import classification_report\n",
    "import librosa\n",
    "from sklearn.svm import SVC \n",
    "from sklearn import preprocessing\n",
    "from sklearn.metrics import classification_report, confusion_matrix\n",
    "import os\n",
    "from librosa import power_to_db , util\n",
    "import scipy\n",
    "import librosa\n",
    "from sklearn.ensemble import RandomForestClassifier\n",
    "from pydub import AudioSegment "
   ]
  },
  {
   "cell_type": "code",
   "execution_count": 2,
   "metadata": {},
   "outputs": [],
   "source": [
    "def mfccc( y=None, sr=22050, S=None, n_mfcc=20, dct_type=2, norm=\"ortho\", lifter=0):\n",
    "    if S is None:\n",
    "        # multichannel behavior may be different due to relative noise floor differences between channels\n",
    "        S = power_to_db(librosa.feature.melspectrogram(y=y, sr=sr))\n",
    "\n",
    "    M = scipy.fftpack.dct(S, axis=-2, type=dct_type, norm=norm)[..., :n_mfcc, :]\n",
    "\n",
    "    if lifter > 0:\n",
    "        # shape lifter for broadcasting\n",
    "        LI = np.sin(np.pi * np.arange(1, 1 + n_mfcc, dtype=M.dtype) / lifter)\n",
    "        LI = util.expand_to(LI, ndim=S.ndim, axes=-2)\n",
    "\n",
    "        M *= 1 + (lifter / 2) * LI\n",
    "        return M\n",
    "    elif lifter == 0:\n",
    "        return M\n",
    "    else:\n",
    "        raise ParameterError(\n",
    "            \"MFCC lifter={} must be a non-negative number\".format(lifter)\n",
    "        )"
   ]
  },
  {
   "cell_type": "code",
   "execution_count": 3,
   "metadata": {},
   "outputs": [],
   "source": [
    "def rms(y=None, S=None, frame_length=2048, hop_length=512, center=True, pad_mode=\"constant\",):\n",
    "    if y is not None:\n",
    "        if center:\n",
    "            padding = [(0, 0) for _ in range(y.ndim)]\n",
    "            padding[-1] = (int(frame_length // 2), int(frame_length // 2))\n",
    "            y = np.pad(y, padding, mode=pad_mode)\n",
    "\n",
    "        x = util.frame(y, frame_length=frame_length, hop_length=hop_length)\n",
    "\n",
    "        # Calculate power\n",
    "        power = np.mean(np.abs(x) ** 2, axis=-2, keepdims=True)\n",
    "    elif S is not None:\n",
    "        # Check the frame length\n",
    "        if S.shape[-2] != frame_length // 2 + 1:\n",
    "            raise ParameterError(\n",
    "                \"Since S.shape[-2] is {}, \"\n",
    "                \"frame_length is expected to be {} or {}; \"\n",
    "                \"found {}\".format(\n",
    "                    S.shape[-2], S.shape[-2] * 2 - 2, S.shape[-2] * 2 - 1, frame_length\n",
    "                )\n",
    "            )\n",
    "\n",
    "        # power spectrogram\n",
    "        x = np.abs(S) ** 2\n",
    "\n",
    "        # Adjust the DC and sr/2 component\n",
    "        x[..., 0, :] *= 0.5\n",
    "        if frame_length % 2 == 0:\n",
    "            x[..., -1, :] *= 0.5\n",
    "\n",
    "        # Calculate power\n",
    "        power = 2 * np.sum(x, axis=-2, keepdims=True) / frame_length ** 2\n",
    "    else:\n",
    "        raise ParameterError(\"Either `y` or `S` must be input.\")\n",
    "\n",
    "    return np.sqrt(power)"
   ]
  },
  {
   "cell_type": "code",
   "execution_count": 4,
   "metadata": {},
   "outputs": [],
   "source": [
    "def spectral_centroid(y=None, sr=22050, S=None, n_fft=2048, hop_length=512, freq=None, win_length=None, window=\"hann\",\n",
    "                      center=True, pad_mode=\"constant\" ):\n",
    "    S, n_fft = librosa.core.spectrum._spectrogram(\n",
    "        y=y,\n",
    "        S=S,\n",
    "        n_fft=n_fft,\n",
    "        hop_length=hop_length,\n",
    "        win_length=win_length,\n",
    "        window=window,\n",
    "        center=center,\n",
    "        pad_mode=pad_mode)\n",
    "    \n",
    "    if not np.isrealobj(S):\n",
    "        raise ParameterError(\n",
    "            \"Spectral centroid is only defined \" \"with real-valued input\"\n",
    "        )\n",
    "        \n",
    "    elif np.any(S < 0):\n",
    "        raise ParameterError(\n",
    "            \"Spectral centroid is only defined \" \"with non-negative energies\"\n",
    "        )\n",
    "        \n",
    "    # Compute the center frequencies of each bin\n",
    "    if freq is None:\n",
    "        freq = librosa.fft_frequencies(sr=sr, n_fft=n_fft)\n",
    "        \n",
    "    if freq.ndim == 1:\n",
    "        # reshape for broadcasting\n",
    "        freq = util.expand_to(freq, ndim=S.ndim, axes=-2)\n",
    "        \n",
    "        # Column-normalize S\n",
    "        \n",
    "    return np.sum(freq * util.normalize(S, norm=1, axis=-2), axis=-2, keepdims=True)\n"
   ]
  },
  {
   "cell_type": "code",
   "execution_count": 5,
   "metadata": {},
   "outputs": [],
   "source": [
    "def spectral_bandwidth(y=None, sr=22050, S=None, n_fft=2048, hop_length=512, win_length=None, window=\"hann\", center=True,\n",
    "    pad_mode=\"constant\", freq=None, centroid=None, norm=True, p=2 ):\n",
    "    S, n_fft = librosa.core.spectrum._spectrogram(\n",
    "        y=y,\n",
    "        S=S,\n",
    "        n_fft=n_fft,\n",
    "        hop_length=hop_length,\n",
    "        win_length=win_length,\n",
    "        window=window,\n",
    "        center=center,\n",
    "        pad_mode=pad_mode,\n",
    "    )\n",
    "    \n",
    "    if not np.isrealobj(S):\n",
    "        raise ParameterError(\n",
    "            \"Spectral bandwidth is only defined \" \"with real-valued input\"\n",
    "        )\n",
    "    elif np.any(S < 0):\n",
    "        raise ParameterError(\n",
    "            \"Spectral bandwidth is only defined \" \"with non-negative energies\"\n",
    "        )\n",
    "\n",
    "    # centroid or center?\n",
    "    if centroid is None:\n",
    "        centroid = spectral_centroid(\n",
    "            y=y, sr=sr, S=S, n_fft=n_fft, hop_length=hop_length, freq=freq\n",
    "        )\n",
    "\n",
    "    # Compute the center frequencies of each bin\n",
    "    if freq is None:\n",
    "        freq = librosa.fft_frequencies(sr=sr, n_fft=n_fft)\n",
    "\n",
    "    if freq.ndim == 1:\n",
    "        deviation = np.abs(\n",
    "            np.subtract.outer(centroid[..., 0, :], freq).swapaxes(-2, -1)\n",
    "        )\n",
    "    else:\n",
    "        deviation = np.abs(freq - centroid)\n",
    "\n",
    "    # Column-normalize S\n",
    "    if norm:\n",
    "        S = util.normalize(S, norm=1, axis=-2)\n",
    "\n",
    "    return np.sum(S * deviation ** p, axis=-2, keepdims=True) ** (1.0 / p)\n"
   ]
  },
  {
   "cell_type": "code",
   "execution_count": 6,
   "metadata": {},
   "outputs": [],
   "source": [
    "def spectral_rolloff(y=None, sr=22050, S=None, n_fft=2048, hop_length=512, win_length=None, window=\"hann\", center=True,\n",
    "    pad_mode=\"constant\", freq=None, roll_percent=0.85 ):\n",
    "    if not 0.0 < roll_percent < 1.0:\n",
    "        raise ParameterError(\"roll_percent must lie in the range (0, 1)\")\n",
    "\n",
    "    S, n_fft = librosa.core.spectrum._spectrogram(\n",
    "        y=y,\n",
    "        S=S,\n",
    "        n_fft=n_fft,\n",
    "        hop_length=hop_length,\n",
    "        win_length=win_length,\n",
    "        window=window,\n",
    "        center=center,\n",
    "        pad_mode=pad_mode,\n",
    "    )\n",
    "\n",
    "    if not np.isrealobj(S):\n",
    "        raise ParameterError(\n",
    "            \"Spectral rolloff is only defined \" \"with real-valued input\"\n",
    "        )\n",
    "    elif np.any(S < 0):\n",
    "        raise ParameterError(\n",
    "            \"Spectral rolloff is only defined \" \"with non-negative energies\"\n",
    "        )\n",
    "\n",
    "    # Compute the center frequencies of each bin\n",
    "    if freq is None:\n",
    "        freq = librosa.fft_frequencies(sr=sr, n_fft=n_fft)\n",
    "\n",
    "    # Make sure that frequency can be broadcast\n",
    "    if freq.ndim == 1:\n",
    "        # reshape for broadcasting\n",
    "        freq = util.expand_to(freq, ndim=S.ndim, axes=-2)\n",
    "\n",
    "    total_energy = np.cumsum(S, axis=-2)\n",
    "    # (channels,freq,frames)\n",
    "\n",
    "    threshold = roll_percent * total_energy[..., -1, :]\n",
    "\n",
    "    # reshape threshold for broadcasting\n",
    "    threshold = np.expand_dims(threshold, axis=-2)\n",
    "\n",
    "    ind = np.where(total_energy < threshold, np.nan, 1)\n",
    "\n",
    "    return np.nanmin(ind * freq, axis=-2, keepdims=True)"
   ]
  },
  {
   "cell_type": "code",
   "execution_count": 7,
   "metadata": {},
   "outputs": [],
   "source": [
    "def zero_crossing_rate(y, *, frame_length=2048, hop_length=512, center=True, **kwargs):\n",
    "    # check if audio is valid\n",
    "    util.valid_audio(y, mono=False)\n",
    "\n",
    "    if center:\n",
    "        padding = [(0, 0) for _ in range(y.ndim)]\n",
    "        padding[-1] = (int(frame_length // 2), int(frame_length // 2))\n",
    "        y = np.pad(y, padding, mode=\"edge\")\n",
    "\n",
    "    y_framed = util.frame(y, frame_length=frame_length, hop_length=hop_length)\n",
    "\n",
    "    kwargs[\"axis\"] = -2\n",
    "    kwargs.setdefault(\"pad\", False)\n",
    "\n",
    "    crossings = librosa.zero_crossings(y_framed, **kwargs)\n",
    "\n",
    "    return np.mean(crossings, axis=-2, keepdims=True)"
   ]
  },
  {
   "cell_type": "code",
   "execution_count": 8,
   "metadata": {},
   "outputs": [],
   "source": [
    "\n",
    "header = 'filename rmse spectral_centroid spectral_bandwidth rolloff zero_crossing_rate'\n",
    "\n",
    "for i in range(1, 40):\n",
    "    header += f' mfcc{i}'\n",
    "header = header.split()\n",
    "# print('CSV Header: ', header)\n",
    "file = open(\"data.csv\", 'w', newline='')\n",
    "writer = csv.writer(file)\n",
    "writer.writerow(header)\n",
    "file.close()\n",
    "\n",
    "\n",
    "def writeCsv(data):\n",
    "    file = open(\"data.csv\", 'a', newline='')\n",
    "    writer = csv.writer(file)\n",
    "    writer.writerow(data.split(\",\"))\n",
    "    file.close()\n",
    "\n",
    "\n",
    "\n",
    "def feature_extraction(file_path):\n",
    "    # iterate through all file\n",
    "        sound = AudioSegment.from_file(file_path, \"wav\")\n",
    "        sound = sound.set_channels(1)\n",
    "        sound = sound.set_frame_rate(16000)\n",
    "        sound = sound.set_sample_width(2)\n",
    "        sound.export('./new.wav', format='wav')\n",
    "        y, sr = librosa.load('./new.wav', mono=False)\n",
    "            # remove leading and trailing silence\n",
    "        y, index = librosa.effects.trim(y)\n",
    "        # chroma_stft = librosa.feature.chroma_stft(y=y, sr=sr)\n",
    "        rmse = rms(y=y)\n",
    "        #rmse = librosa.feature.rms(y=y)\n",
    "        spec_cent = spectral_centroid(y=y, sr=sr)\n",
    "        #spec_cent = librosa.feature.spectral_centroid(y=y, sr=sr)\n",
    "        spec_bw = spectral_bandwidth(y=y, sr=sr)\n",
    "        #spec_bw = librosa.feature.spectral_bandwidth(y=y, sr=sr)\n",
    "        rolloff = spectral_rolloff(y=y, sr=sr)\n",
    "        #rolloff = librosa.feature.spectral_rolloff(y=y, sr=sr)\n",
    "        zcr = zero_crossing_rate(y)\n",
    "        #zcr = librosa.feature.zero_crossing_rate(y)\n",
    "        mfcc = mfccc(y=y, sr=sr,n_mfcc=39)\n",
    "        #mfcc = librosa.feature.mfcc(y=y, sr=sr,n_mfcc=39)\n",
    "        to_append = f'{file},{np.mean(rmse)},{np.mean(spec_cent)},{np.mean(spec_bw)},{np.mean(rolloff)},{np.mean(zcr)}'\n",
    "        for e in mfcc:\n",
    "            to_append += f',{np.mean(e)}'\n",
    "        \n",
    "        writeCsv(to_append)\n",
    "        return to_append\n",
    "\n",
    "to_append =[]\n",
    "\n",
    "\n",
    "\n",
    "\n",
    "\n",
    "\n",
    "path ='./Data_Web'\n",
    "\n",
    "for file in os.listdir(path):\n",
    "    # print(file)\n",
    "    file_path = f\"{path}\\{file}\"  \n",
    "    data = feature_extraction(file_path)\n",
    "\n",
    "\n",
    "\n",
    "\n",
    "\n",
    "\n",
    "\n",
    "\n",
    "    "
   ]
  },
  {
   "cell_type": "code",
   "execution_count": 104,
   "metadata": {},
   "outputs": [],
   "source": [
    "def s_to_m(input_file):\n",
    "    \"\"\"convert stereo sound to 16 bit mono/ 2 channels\"\"\"\n",
    "    sound = AudioSegment.from_file(input_file, format=\"wav\")\n",
    "    sound = sound.set_channels(1)\n",
    "    sound = sound.set_sample_width(2)\n",
    "    sound.export(input_file, format=\"wav\")"
   ]
  },
  {
   "cell_type": "code",
   "execution_count": 9,
   "metadata": {},
   "outputs": [],
   "source": [
    "def feature_extraction_array(file_path):\n",
    "    to_append =[]\n",
    "    # iterate through all file\n",
    "    sound = AudioSegment.from_file(file_path, \"wav\")\n",
    "    sound = sound.set_channels(1)\n",
    "    sound = sound.set_frame_rate(16000)\n",
    "    sound = sound.set_sample_width(2)\n",
    "    sound.export('./new.wav', format='wav')\n",
    "    y, sr = librosa.load('./new.wav', mono=False)\n",
    "        # remove leading and trailing silence\n",
    "    y, index = librosa.effects.trim(y)\n",
    "    # chroma_stft = librosa.feature.chroma_stft(y=y, sr=sr)\n",
    "    #rmse = librosa.feature.rms(y=y)\n",
    "    rmse = rms(y=y)\n",
    "    #spec_cent = librosa.feature.spectral_centroid(y=y, sr=sr)\n",
    "    spec_cent = spectral_centroid(y=y, sr=sr)\n",
    "    #spec_bw = librosa.feature.spectral_bandwidth(y=y, sr=sr)\n",
    "    spec_bw = spectral_bandwidth(y=y, sr=sr)\n",
    "    #rolloff = librosa.feature.spectral_rolloff(y=y, sr=sr)\n",
    "    rolloff = spectral_rolloff(y=y, sr=sr)\n",
    "    #zcr = librosa.feature.zero_crossing_rate(y)\n",
    "    zcr = zero_crossing_rate(y)\n",
    "    #mfcc = librosa.feature.mfcc(y=y, sr=sr,n_mfcc=39, n_fft=1024, hop_length=512)\n",
    "    mfcc = mfccc(y=y, sr=sr,n_mfcc=39)\n",
    "    to_append.append(np.mean(rmse))\n",
    "    to_append.append(np.mean(spec_cent))\n",
    "    to_append.append(np.mean(spec_bw))\n",
    "    to_append.append(np.mean(rolloff))\n",
    "    to_append.append(np.mean(zcr))\n",
    "    for e in mfcc:\n",
    "        to_append.append(np.mean(e))\n",
    "    return to_append\n",
    "    \n",
    "    \n",
    "def preProcessing(csvName):\n",
    "    data = pd.read_csv(csvName)\n",
    "    audioName = data['filename']\n",
    "    speakerNumber = []\n",
    "    for i in range(len(audioName)):\n",
    "        speakerLetter = audioName[i][2]\n",
    "        if speakerLetter == \"D\":\n",
    "            speakerLetter = 0\n",
    "        elif speakerLetter ==\"B\":\n",
    "            speakerLetter=1\n",
    "        elif speakerLetter == \"W\":\n",
    "            speakerLetter = 2\n",
    "        # elif speakerLetter ==\"Y\":\n",
    "        #     speakerLetter = \"3\"\n",
    "        else:\n",
    "            speakerLetter = \"4\"\n",
    "        speakerNumber.append(speakerLetter)\n",
    "\n",
    "    data = data.drop(['filename'],axis=1)\n",
    "\n",
    "\n",
    "    print(data.tail())\n",
    "    \n",
    "    return data, speakerNumber\n"
   ]
  },
  {
   "cell_type": "markdown",
   "metadata": {},
   "source": [
    "***Speaker Recognition***"
   ]
  },
  {
   "cell_type": "code",
   "execution_count": 10,
   "metadata": {},
   "outputs": [
    {
     "name": "stdout",
     "output_type": "stream",
     "text": [
      "         rmse  spectral_centroid  spectral_bandwidth      rolloff  \\\n",
      "97   0.003603        1394.768337         1730.979147  3198.148777   \n",
      "98   0.008825        1522.933108         1747.353990  3474.755859   \n",
      "99   0.007446        1504.053577         1745.733938  3397.259457   \n",
      "100  0.004505        1451.172225         1756.832113  3383.315805   \n",
      "101  0.003975        1439.967941         1747.571653  3208.447266   \n",
      "\n",
      "     zero_crossing_rate       mfcc1       mfcc2      mfcc3      mfcc4  \\\n",
      "97             0.062606 -634.510132  111.369865  14.718190  24.492180   \n",
      "98             0.066820 -591.095581   83.811501  20.999840  19.189430   \n",
      "99             0.069845 -589.247498   86.607193  23.352549  19.517742   \n",
      "100            0.062999 -619.642761  106.226433  16.434183  24.129772   \n",
      "101            0.057784 -627.862854  101.504547  19.067289  21.510702   \n",
      "\n",
      "        mfcc5  ...    mfcc30    mfcc31    mfcc32    mfcc33    mfcc34  \\\n",
      "97  -5.411088  ... -2.324473  0.130601 -0.994284  1.519353 -0.357630   \n",
      "98  -1.816091  ... -2.161522 -0.599514  0.954518  1.690460  1.200692   \n",
      "99  -6.803739  ... -1.933513 -1.759468 -1.112223  0.385170 -0.297152   \n",
      "100 -6.471482  ... -1.639613  0.778625 -0.113736  1.878340 -0.550108   \n",
      "101 -7.123088  ... -2.804712 -2.018674 -3.507318 -0.730031 -0.119591   \n",
      "\n",
      "       mfcc35    mfcc36    mfcc37    mfcc38    mfcc39  \n",
      "97   1.817726  2.034059  0.042912  0.368797 -0.597646  \n",
      "98   2.554235  3.618128  1.312202  1.374970  1.051594  \n",
      "99   1.681934  3.464231  1.338874  1.912539  0.776719  \n",
      "100  1.053035  2.038923 -1.645280 -2.108096 -1.989086  \n",
      "101  2.201055  2.899617  1.999413  1.874875  0.694607  \n",
      "\n",
      "[5 rows x 44 columns]\n"
     ]
    }
   ],
   "source": [
    "data, number = preProcessing(\"data.csv\")\n"
   ]
  },
  {
   "cell_type": "code",
   "execution_count": 11,
   "metadata": {},
   "outputs": [],
   "source": [
    "X= np.array(data)\n",
    "\n",
    "y=np.asarray(number)"
   ]
  },
  {
   "cell_type": "code",
   "execution_count": 18,
   "metadata": {},
   "outputs": [],
   "source": [
    "X_train, X_test, y_train, y_test = train_test_split(\n",
    "        X, y, test_size=0.3, random_state=123\n",
    "    )\n"
   ]
  },
  {
   "cell_type": "code",
   "execution_count": 19,
   "metadata": {},
   "outputs": [],
   "source": [
    "svm_model= svm.SVC(kernel='linear' , C=0.01)\n",
    "svm_model.fit(X_train, y_train) \n",
    "\n",
    "y_pred = svm_model.predict(X_test)\n",
    "\n",
    "\n",
    "\n"
   ]
  },
  {
   "cell_type": "code",
   "execution_count": 133,
   "metadata": {},
   "outputs": [
    {
     "name": "stdout",
     "output_type": "stream",
     "text": [
      "[0]\n"
     ]
    }
   ],
   "source": [
    "testing = feature_extraction_array('./my-rec.wav')\n",
    "y_predict = svm_model.predict([testing])\n",
    "\n",
    "\n",
    "\n",
    "print(y_predict)\n"
   ]
  },
  {
   "cell_type": "code",
   "execution_count": 20,
   "metadata": {},
   "outputs": [
    {
     "name": "stdout",
     "output_type": "stream",
     "text": [
      "  Train model accuracy = 98.6 %\n",
      "  Test model accuracy = 80.6 %\n"
     ]
    }
   ],
   "source": [
    "from sklearn import metrics\n",
    "y_pred_t = svm_model.predict(X_train)\n",
    "accuracy_t = metrics.accuracy_score(y_train,y_pred_t)\n",
    "\n",
    "\n",
    "print(f\"  Train model accuracy = {100* accuracy_t:.3} %\")\n",
    "accuracy = metrics.accuracy_score(y_test,y_pred)\n",
    "\n",
    "\n",
    "print(f\"  Test model accuracy = {100* accuracy:.3} %\")\n"
   ]
  },
  {
   "cell_type": "markdown",
   "metadata": {},
   "source": [
    "***Plot  SVM***"
   ]
  },
  {
   "cell_type": "code",
   "execution_count": 112,
   "metadata": {},
   "outputs": [],
   "source": [
    "import matplotlib.pyplot as plt"
   ]
  },
  {
   "cell_type": "code",
   "execution_count": 113,
   "metadata": {},
   "outputs": [
    {
     "data": {
      "text/plain": [
       "<matplotlib.collections.PathCollection at 0x1d6138ffd00>"
      ]
     },
     "execution_count": 113,
     "metadata": {},
     "output_type": "execute_result"
    },
    {
     "data": {
      "image/png": "[encoded data removed]",
      "text/plain": [
       "<Figure size 432x288 with 1 Axes>"
      ]
     },
     "metadata": {
      "needs_background": "light"
     },
     "output_type": "display_data"
    }
   ],
   "source": [
    "vector = np.vectorize(np.int_)\n",
    "plt.scatter(X_train[:,1],X_train[:,15],c=vector(y_pred_t), cmap='Set3')\n",
    "plt.scatter(testing[1],testing[15],c='b', cmap='Set3')"
   ]
  },
  {
   "cell_type": "markdown",
   "metadata": {},
   "source": [
    "***Spoken Digit Recognition***"
   ]
  },
  {
   "cell_type": "code",
   "execution_count": 114,
   "metadata": {},
   "outputs": [],
   "source": [
    "\"\"\"\"loop that clac all differnces between each item in array with the other\"\"\"\n",
    "def distance(array):    \n",
    "    dist = []\n",
    "    for i in range(len(array)):\n",
    "        for j in range(len(array)):\n",
    "            dist.append(np.linalg.norm(array[i]-array[j]))\n",
    "    return dist "
   ]
  },
  {
   "cell_type": "code",
   "execution_count": 115,
   "metadata": {},
   "outputs": [],
   "source": [
    "dist = distance(vector(y_train))"
   ]
  },
  {
   "cell_type": "code",
   "execution_count": 116,
   "metadata": {},
   "outputs": [],
   "source": [
    "import pickle as plk"
   ]
  },
  {
   "cell_type": "code",
   "execution_count": 117,
   "metadata": {},
   "outputs": [],
   "source": [
    "filename = 'Word_model.sav'\n",
    "plk.dump(svm_model, open(filename, 'wb'))"
   ]
  },
  {
   "cell_type": "code",
   "execution_count": 118,
   "metadata": {},
   "outputs": [],
   "source": [
    "def s_to_m(file):\n",
    "    \"\"\"convert stereo sound to 16 bit mono/ 2 channels\"\"\"\n",
    "    sound = AudioSegment.from_file(file)\n",
    "    sound = sound.set_channels(1)\n",
    "    sound = sound.set_frame_rate(16000)\n",
    "    sound = sound.set_sample_width(2)\n",
    "    sound.export(file, format=\"wav\")\n",
    "    return file"
   ]
  },
  {
   "cell_type": "code",
   "execution_count": null,
   "metadata": {},
   "outputs": [],
   "source": []
  }
 ],
 "metadata": {
  "kernelspec": {
   "display_name": "Python 3",
   "language": "python",
   "name": "python3"
  },
  "language_info": {
   "codemirror_mode": {
    "name": "ipython",
    "version": 3
   },
   "file_extension": ".py",
   "mimetype": "text/x-python",
   "name": "python",
   "nbconvert_exporter": "python",
   "pygments_lexer": "ipython3",
   "version": "3.8.3"
  },
  "vscode": {
   "interpreter": {
    "hash": "f544ce1a915a9875fad91c894e2c0bcad4b7a79945aa6027ef3ad27810072aa6"
   }
  }
 },
 "nbformat": 4,
 "nbformat_minor": 2
}
