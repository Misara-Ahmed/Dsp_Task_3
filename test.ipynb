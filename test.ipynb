{
 "cells": [
  {
   "cell_type": "code",
   "execution_count": 1,
   "metadata": {},
   "outputs": [],
   "source": [
    "import os \n",
    "import librosa as lr\n",
    "import numpy as np\n",
    "import pandas as pd\n",
    "import pickle"
   ]
  },
  {
   "cell_type": "code",
   "execution_count": 4,
   "metadata": {},
   "outputs": [],
   "source": [
    "def features_audio(file_name):\n",
    "    audio,sfreq = lr.load(file_name)\n",
    "    S = np.abs(lr.stft(audio))\n",
    "    pitches,magnitudes = lr.core.piptrack(y = audio ,sr = sfreq)\n",
    "    #min_pitch = np.min(pitches)\n",
    "    max_pitch = np.max(pitches)\n",
    "    avg_pitch = np.mean(pitches)\n",
    "    var_pitch = np.var(pitches)\n",
    "    y_harmonic, y_percussive = lr.effects.hpss(audio)\n",
    "    #print(np.mean(y_harmonic),np.mean(y_percussive))\n",
    "    harmonic = np.mean(y_harmonic)\n",
    "    harmonic_var = np.var(y_harmonic)\n",
    "    percussive = np.mean(y_percussive)\n",
    "    percussive_var = np.var(y_percussive)\n",
    "    chroma=lr.feature.chroma_cens(y=y_harmonic, sr=sfreq)\n",
    "    #print(np.mean(chroma))\n",
    "    Chroma_cens = np.mean(chroma)\n",
    "    Chroma_cens_var = np.var(chroma)\n",
    "    \n",
    "    chroma_stft =lr.feature.chroma_stft(y=y_harmonic, sr=sfreq)\n",
    "    chroma_stft_mean = np.mean(chroma_stft)\n",
    "    chroma_stft_var = np.var(chroma_stft)\n",
    "    \n",
    "    chroma_cqt =lr.feature.chroma_cqt(y=y_harmonic, sr=sfreq)\n",
    "    chroma_cqt_mean = np.mean(chroma_cqt)\n",
    "    chroma_cqt_var = np.var(chroma_cqt)\n",
    "    \n",
    "    mfccs = lr.feature.mfcc(y=y_harmonic, sr=sfreq)\n",
    "    #print(np.mean(mfccs))\n",
    "    Mfccs = np.mean(mfccs)\n",
    "    Mfccs_var = np.var(mfccs)\n",
    "    delta = lr.feature.delta(mfccs)\n",
    "    mfcc_delta_mean = np.mean(delta)\n",
    "    mfcc_delta_var = np.var(delta)\n",
    "    contrast=lr.feature.spectral_contrast(y=y_harmonic,sr=sfreq)\n",
    "    #print(np.mean(contrast))\n",
    "    Contrast = np.mean(contrast)\n",
    "    Contrast_var = np.var(contrast)\n",
    "    \n",
    "    rolloff = lr.feature.spectral_rolloff(y=audio, sr=sfreq)\n",
    "    #print(np.mean(rolloff))\n",
    "    Rolloff = np.mean(rolloff)\n",
    "    Rolloff_var = np.var(rolloff)\n",
    "    \n",
    "    zrate=lr.feature.zero_crossing_rate(y_harmonic)\n",
    "    #print(np.mean(zrate) )\n",
    "    Zrate = np.mean(zrate)\n",
    "    Zrate_var = np.var(zrate)\n",
    "    \n",
    "    cent = lr.feature.spectral_centroid(y=audio, sr=sfreq)\n",
    "    Cent = np.mean(cent)\n",
    "    Cent_var = np.var(cent)\n",
    "    \n",
    "    tonnetz = lr.feature.tonnetz(y=audio, sr=sfreq)\n",
    "    tonnetz_mean = np.mean(tonnetz)\n",
    "    tonnetz_var = np.var(tonnetz)\n",
    "    \n",
    "    poly_features = lr.feature.poly_features(S=S, sr=sfreq)\n",
    "    poly_features_mean = np.mean(poly_features)\n",
    "    poly_features_var = np.var(poly_features)\n",
    "    \n",
    "    spec_bw = lr.feature.spectral_bandwidth(y=audio, sr=sfreq)\n",
    "    spec_bw_mean = np.mean(spec_bw)\n",
    "    spec_bw_var = np.var(spec_bw)\n",
    "    \n",
    "    rmse = lr.feature.rms(y=audio)\n",
    "    rmse_mean = np.mean(rmse)\n",
    "    rmse_var = np.var(rmse)\n",
    "    \n",
    "    melspectrogram = lr.feature.melspectrogram(y=audio, sr=sfreq)\n",
    "    melspec_mean = np.mean(melspectrogram)\n",
    "    melspec_var = np.var(melspectrogram)\n",
    "    \n",
    "    data = list([max_pitch,avg_pitch,var_pitch,harmonic,harmonic_var,percussive,percussive_var,Chroma_cens,Chroma_cens_var,chroma_stft_mean,chroma_stft_var,chroma_cqt_mean,chroma_cqt_var,Mfccs,Mfccs_var,mfcc_delta_mean,mfcc_delta_var,Contrast,Contrast_var,Rolloff,Rolloff_var,Zrate,Zrate_var,Cent,Cent_var,tonnetz_mean,tonnetz_var,poly_features_mean,poly_features_var,spec_bw_mean,spec_bw_var,rmse_mean,rmse_var,melspec_mean,melspec_var])\n",
    "    return data"
   ]
  },
  {
   "cell_type": "code",
   "execution_count": 5,
   "metadata": {},
   "outputs": [],
   "source": [
    "x_pre = features_audio('./Recording (11).wav')"
   ]
  },
  {
   "cell_type": "code",
   "execution_count": 6,
   "metadata": {},
   "outputs": [],
   "source": [
    "loaded_model = pickle.load(open('./Model.sav', 'rb'))"
   ]
  },
  {
   "cell_type": "code",
   "execution_count": 25,
   "metadata": {},
   "outputs": [],
   "source": [
    "x_pre = np.array(x_pre)\n",
    "x_pre = x_pre.reshape(1,-1)"
   ]
  },
  {
   "cell_type": "code",
   "execution_count": 26,
   "metadata": {},
   "outputs": [
    {
     "data": {
      "text/plain": [
       "array([0.])"
      ]
     },
     "execution_count": 26,
     "metadata": {},
     "output_type": "execute_result"
    }
   ],
   "source": [
    "loaded_model.predict(x_pre)"
   ]
  },
  {
   "cell_type": "code",
   "execution_count": null,
   "metadata": {},
   "outputs": [],
   "source": []
  }
 ],
 "metadata": {
  "kernelspec": {
   "display_name": "Python 3.10.8 ('.venv': venv)",
   "language": "python",
   "name": "python3"
  },
  "language_info": {
   "codemirror_mode": {
    "name": "ipython",
    "version": 3
   },
   "file_extension": ".py",
   "mimetype": "text/x-python",
   "name": "python",
   "nbconvert_exporter": "python",
   "pygments_lexer": "ipython3",
   "version": "3.10.8"
  },
  "orig_nbformat": 4,
  "vscode": {
   "interpreter": {
    "hash": "1897b4af09f0f7ad40c0423ad79ae3b2176bd2f4565d0d9c728d39a748292ee4"
   }
  }
 },
 "nbformat": 4,
 "nbformat_minor": 2
}
