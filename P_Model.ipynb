{
 "cells": [
  {
   "cell_type": "code",
   "execution_count": 1,
   "metadata": {},
   "outputs": [],
   "source": [
    "import librosa as librosa\n",
    "import librosa.display\n",
    "import IPython.display as ipd\n",
    "import numpy as np\n",
    "import csv\n",
    "import pandas as pd\n",
    "import matplotlib.pyplot as plt\n",
    "import numpy as np\n",
    "from sklearn.model_selection import train_test_split\n",
    "from sklearn import svm\n",
    "from sklearn.metrics import classification_report\n",
    "import librosa\n",
    "from sklearn.svm import SVC \n",
    "from sklearn import preprocessing\n",
    "from sklearn.metrics import classification_report, confusion_matrix\n",
    "import os\n",
    "from librosa import power_to_db , util\n",
    "import scipy"
   ]
  },
  {
   "cell_type": "code",
   "execution_count": 2,
   "metadata": {},
   "outputs": [],
   "source": [
    "def mfccc( y=None, sr=22050, S=None, n_mfcc=20, dct_type=2, norm=\"ortho\", lifter=0):\n",
    "    if S is None:\n",
    "        # multichannel behavior may be different due to relative noise floor differences between channels\n",
    "        S = power_to_db(librosa.feature.melspectrogram(y=y, sr=sr))\n",
    "\n",
    "    M = scipy.fftpack.dct(S, axis=-2, type=dct_type, norm=norm)[..., :n_mfcc, :]\n",
    "\n",
    "    if lifter > 0:\n",
    "        # shape lifter for broadcasting\n",
    "        LI = np.sin(np.pi * np.arange(1, 1 + n_mfcc, dtype=M.dtype) / lifter)\n",
    "        LI = util.expand_to(LI, ndim=S.ndim, axes=-2)\n",
    "\n",
    "        M *= 1 + (lifter / 2) * LI\n",
    "        return M\n",
    "    elif lifter == 0:\n",
    "        return M\n",
    "    else:\n",
    "        raise ParameterError(\n",
    "            \"MFCC lifter={} must be a non-negative number\".format(lifter)\n",
    "        )"
   ]
  },
  {
   "cell_type": "code",
   "execution_count": 3,
   "metadata": {},
   "outputs": [],
   "source": [
    "def rms(y=None, S=None, frame_length=2048, hop_length=512, center=True, pad_mode=\"constant\",):\n",
    "    if y is not None:\n",
    "        if center:\n",
    "            padding = [(0, 0) for _ in range(y.ndim)]\n",
    "            padding[-1] = (int(frame_length // 2), int(frame_length // 2))\n",
    "            y = np.pad(y, padding, mode=pad_mode)\n",
    "\n",
    "        x = util.frame(y, frame_length=frame_length, hop_length=hop_length)\n",
    "\n",
    "        # Calculate power\n",
    "        power = np.mean(np.abs(x) ** 2, axis=-2, keepdims=True)\n",
    "    elif S is not None:\n",
    "        # Check the frame length\n",
    "        if S.shape[-2] != frame_length // 2 + 1:\n",
    "            raise ParameterError(\n",
    "                \"Since S.shape[-2] is {}, \"\n",
    "                \"frame_length is expected to be {} or {}; \"\n",
    "                \"found {}\".format(\n",
    "                    S.shape[-2], S.shape[-2] * 2 - 2, S.shape[-2] * 2 - 1, frame_length\n",
    "                )\n",
    "            )\n",
    "\n",
    "        # power spectrogram\n",
    "        x = np.abs(S) ** 2\n",
    "\n",
    "        # Adjust the DC and sr/2 component\n",
    "        x[..., 0, :] *= 0.5\n",
    "        if frame_length % 2 == 0:\n",
    "            x[..., -1, :] *= 0.5\n",
    "\n",
    "        # Calculate power\n",
    "        power = 2 * np.sum(x, axis=-2, keepdims=True) / frame_length ** 2\n",
    "    else:\n",
    "        raise ParameterError(\"Either `y` or `S` must be input.\")\n",
    "\n",
    "    return np.sqrt(power)"
   ]
  },
  {
   "cell_type": "code",
   "execution_count": 4,
   "metadata": {},
   "outputs": [],
   "source": [
    "def spectral_centroid(y=None, sr=22050, S=None, n_fft=2048, hop_length=512, freq=None, win_length=None, window=\"hann\",\n",
    "                      center=True, pad_mode=\"constant\" ):\n",
    "    S, n_fft = librosa.core.spectrum._spectrogram(\n",
    "        y=y,\n",
    "        S=S,\n",
    "        n_fft=n_fft,\n",
    "        hop_length=hop_length,\n",
    "        win_length=win_length,\n",
    "        window=window,\n",
    "        center=center,\n",
    "        pad_mode=pad_mode)\n",
    "    \n",
    "    if not np.isrealobj(S):\n",
    "        raise ParameterError(\n",
    "            \"Spectral centroid is only defined \" \"with real-valued input\"\n",
    "        )\n",
    "        \n",
    "    elif np.any(S < 0):\n",
    "        raise ParameterError(\n",
    "            \"Spectral centroid is only defined \" \"with non-negative energies\"\n",
    "        )\n",
    "        \n",
    "    # Compute the center frequencies of each bin\n",
    "    if freq is None:\n",
    "        freq = librosa.fft_frequencies(sr=sr, n_fft=n_fft)\n",
    "        \n",
    "    if freq.ndim == 1:\n",
    "        # reshape for broadcasting\n",
    "        freq = util.expand_to(freq, ndim=S.ndim, axes=-2)\n",
    "        \n",
    "        # Column-normalize S\n",
    "        \n",
    "    return np.sum(freq * util.normalize(S, norm=1, axis=-2), axis=-2, keepdims=True)\n"
   ]
  },
  {
   "cell_type": "code",
   "execution_count": 5,
   "metadata": {},
   "outputs": [],
   "source": [
    "def spectral_bandwidth(y=None, sr=22050, S=None, n_fft=2048, hop_length=512, win_length=None, window=\"hann\", center=True,\n",
    "    pad_mode=\"constant\", freq=None, centroid=None, norm=True, p=2 ):\n",
    "    S, n_fft = librosa.core.spectrum._spectrogram(\n",
    "        y=y,\n",
    "        S=S,\n",
    "        n_fft=n_fft,\n",
    "        hop_length=hop_length,\n",
    "        win_length=win_length,\n",
    "        window=window,\n",
    "        center=center,\n",
    "        pad_mode=pad_mode,\n",
    "    )\n",
    "    \n",
    "    if not np.isrealobj(S):\n",
    "        raise ParameterError(\n",
    "            \"Spectral bandwidth is only defined \" \"with real-valued input\"\n",
    "        )\n",
    "    elif np.any(S < 0):\n",
    "        raise ParameterError(\n",
    "            \"Spectral bandwidth is only defined \" \"with non-negative energies\"\n",
    "        )\n",
    "\n",
    "    # centroid or center?\n",
    "    if centroid is None:\n",
    "        centroid = spectral_centroid(\n",
    "            y=y, sr=sr, S=S, n_fft=n_fft, hop_length=hop_length, freq=freq\n",
    "        )\n",
    "\n",
    "    # Compute the center frequencies of each bin\n",
    "    if freq is None:\n",
    "        freq = librosa.fft_frequencies(sr=sr, n_fft=n_fft)\n",
    "\n",
    "    if freq.ndim == 1:\n",
    "        deviation = np.abs(\n",
    "            np.subtract.outer(centroid[..., 0, :], freq).swapaxes(-2, -1)\n",
    "        )\n",
    "    else:\n",
    "        deviation = np.abs(freq - centroid)\n",
    "\n",
    "    # Column-normalize S\n",
    "    if norm:\n",
    "        S = util.normalize(S, norm=1, axis=-2)\n",
    "\n",
    "    return np.sum(S * deviation ** p, axis=-2, keepdims=True) ** (1.0 / p)\n"
   ]
  },
  {
   "cell_type": "code",
   "execution_count": 6,
   "metadata": {},
   "outputs": [],
   "source": [
    "def spectral_rolloff(y=None, sr=22050, S=None, n_fft=2048, hop_length=512, win_length=None, window=\"hann\", center=True,\n",
    "    pad_mode=\"constant\", freq=None, roll_percent=0.85 ):\n",
    "    if not 0.0 < roll_percent < 1.0:\n",
    "        raise ParameterError(\"roll_percent must lie in the range (0, 1)\")\n",
    "\n",
    "    S, n_fft = librosa.core.spectrum._spectrogram(\n",
    "        y=y,\n",
    "        S=S,\n",
    "        n_fft=n_fft,\n",
    "        hop_length=hop_length,\n",
    "        win_length=win_length,\n",
    "        window=window,\n",
    "        center=center,\n",
    "        pad_mode=pad_mode,\n",
    "    )\n",
    "\n",
    "    if not np.isrealobj(S):\n",
    "        raise ParameterError(\n",
    "            \"Spectral rolloff is only defined \" \"with real-valued input\"\n",
    "        )\n",
    "    elif np.any(S < 0):\n",
    "        raise ParameterError(\n",
    "            \"Spectral rolloff is only defined \" \"with non-negative energies\"\n",
    "        )\n",
    "\n",
    "    # Compute the center frequencies of each bin\n",
    "    if freq is None:\n",
    "        freq = librosa.fft_frequencies(sr=sr, n_fft=n_fft)\n",
    "\n",
    "    # Make sure that frequency can be broadcast\n",
    "    if freq.ndim == 1:\n",
    "        # reshape for broadcasting\n",
    "        freq = util.expand_to(freq, ndim=S.ndim, axes=-2)\n",
    "\n",
    "    total_energy = np.cumsum(S, axis=-2)\n",
    "    # (channels,freq,frames)\n",
    "\n",
    "    threshold = roll_percent * total_energy[..., -1, :]\n",
    "\n",
    "    # reshape threshold for broadcasting\n",
    "    threshold = np.expand_dims(threshold, axis=-2)\n",
    "\n",
    "    ind = np.where(total_energy < threshold, np.nan, 1)\n",
    "\n",
    "    return np.nanmin(ind * freq, axis=-2, keepdims=True)"
   ]
  },
  {
   "cell_type": "code",
   "execution_count": 7,
   "metadata": {},
   "outputs": [],
   "source": [
    "def zero_crossing_rate(y, *, frame_length=2048, hop_length=512, center=True, **kwargs):\n",
    "    # check if audio is valid\n",
    "    util.valid_audio(y, mono=False)\n",
    "\n",
    "    if center:\n",
    "        padding = [(0, 0) for _ in range(y.ndim)]\n",
    "        padding[-1] = (int(frame_length // 2), int(frame_length // 2))\n",
    "        y = np.pad(y, padding, mode=\"edge\")\n",
    "\n",
    "    y_framed = util.frame(y, frame_length=frame_length, hop_length=hop_length)\n",
    "\n",
    "    kwargs[\"axis\"] = -2\n",
    "    kwargs.setdefault(\"pad\", False)\n",
    "\n",
    "    crossings = librosa.zero_crossings(y_framed, **kwargs)\n",
    "\n",
    "    return np.mean(crossings, axis=-2, keepdims=True)\n"
   ]
  },
  {
   "cell_type": "code",
   "execution_count": 8,
   "metadata": {},
   "outputs": [],
   "source": [
    "\n",
    "header = 'filename rmse spectral_centroid spectral_bandwidth rolloff zero_crossing_rate'\n",
    "\n",
    "for i in range(1, 40):\n",
    "    header += f' mfcc{i}'\n",
    "header = header.split()\n",
    "# print('CSV Header: ', header)\n",
    "file = open(\"data.csv\", 'w', newline='')\n",
    "writer = csv.writer(file)\n",
    "writer.writerow(header)\n",
    "file.close()\n",
    "\n",
    "\n",
    "def writeCsv(data):\n",
    "    file = open(\"data.csv\", 'a', newline='')\n",
    "    writer = csv.writer(file)\n",
    "    writer.writerow(data.split(\",\"))\n",
    "    file.close()\n",
    "\n",
    "\n",
    "\n",
    "def feature_extraction(file_path):\n",
    "    # iterate through all file\n",
    "        y, sr = librosa.load(file_path, mono=True, duration=30)\n",
    "            # remove leading and trailing silence\n",
    "        y, index = librosa.effects.trim(y)\n",
    "        # chroma_stft = librosa.feature.chroma_stft(y=y, sr=sr)\n",
    "        rmse = rms(y=y)\n",
    "        #rmse = librosa.feature.rms(y=y)\n",
    "        spec_cent = spectral_centroid(y=y, sr=sr)\n",
    "        #spec_cent = librosa.feature.spectral_centroid(y=y, sr=sr)\n",
    "        spec_bw = spectral_bandwidth(y=y, sr=sr)\n",
    "        #spec_bw = librosa.feature.spectral_bandwidth(y=y, sr=sr)\n",
    "        rolloff = spectral_rolloff(y=y, sr=sr)\n",
    "        #rolloff = librosa.feature.spectral_rolloff(y=y, sr=sr)\n",
    "        zcr = zero_crossing_rate(y)\n",
    "        #zcr = librosa.feature.zero_crossing_rate(y)\n",
    "        mfcc = mfccc(y=y, sr=sr,n_mfcc=39)\n",
    "        #mfcc = librosa.feature.mfcc(y=y, sr=sr,n_mfcc=39)\n",
    "        to_append = f'{file},{np.mean(rmse)},{np.mean(spec_cent)},{np.mean(spec_bw)},{np.mean(rolloff)},{np.mean(zcr)}'\n",
    "        for e in mfcc:\n",
    "            to_append += f',{np.mean(e)}'\n",
    "        \n",
    "        writeCsv(to_append)\n",
    "        return to_append\n",
    "\n",
    "to_append =[]\n",
    "\n",
    "\n",
    "\n",
    "\n",
    "\n",
    "path ='./Data/Person_data/'\n",
    "\n",
    "for file in os.listdir(path):\n",
    "    # print(file)\n",
    "    file_path = f\"{path}\\{file}\"  \n",
    "    data = feature_extraction(file_path)\n",
    "\n",
    "\n",
    "\n",
    "\n",
    "\n",
    "\n",
    "\n",
    "\n",
    "    "
   ]
  },
  {
   "cell_type": "code",
   "execution_count": 9,
   "metadata": {},
   "outputs": [],
   "source": [
    "def feature_extraction_array(file_path):\n",
    "    to_append =[]\n",
    "    # iterate through all file\n",
    "    y, sr = librosa.load(file_path, mono=True, duration=30)\n",
    "        # remove leading and trailing silence\n",
    "    y, index = librosa.effects.trim(y)\n",
    "    # chroma_stft = librosa.feature.chroma_stft(y=y, sr=sr)\n",
    "    #rmse = librosa.feature.rms(y=y)\n",
    "    rmse = rms(y=y)\n",
    "    #spec_cent = librosa.feature.spectral_centroid(y=y, sr=sr)\n",
    "    spec_cent = spectral_centroid(y=y, sr=sr)\n",
    "    #spec_bw = librosa.feature.spectral_bandwidth(y=y, sr=sr)\n",
    "    spec_bw = spectral_bandwidth(y=y, sr=sr)\n",
    "    #rolloff = librosa.feature.spectral_rolloff(y=y, sr=sr)\n",
    "    rolloff = spectral_rolloff(y=y, sr=sr)\n",
    "    #zcr = librosa.feature.zero_crossing_rate(y)\n",
    "    zcr = zero_crossing_rate(y)\n",
    "    #mfcc = librosa.feature.mfcc(y=y, sr=sr,n_mfcc=39, n_fft=1024, hop_length=512)\n",
    "    mfcc = mfccc(y=y, sr=sr,n_mfcc=39)\n",
    "    to_append.append(np.mean(rmse))\n",
    "    to_append.append(np.mean(spec_cent))\n",
    "    to_append.append(np.mean(spec_bw))\n",
    "    to_append.append(np.mean(rolloff))\n",
    "    to_append.append(np.mean(zcr))\n",
    "    for e in mfcc:\n",
    "        to_append.append(np.mean(e))\n",
    "    return to_append\n",
    "    \n",
    "    \n",
    "def preProcessing(csvName):\n",
    "    data = pd.read_csv(csvName)\n",
    "    audioName = data['filename']\n",
    "    speakerNumber = []\n",
    "    for i in range(len(audioName)):\n",
    "        speakerLetter = audioName[i][0]\n",
    "        if speakerLetter == \"A\":\n",
    "            speakerLetter = 0\n",
    "        elif speakerLetter ==\"H\":\n",
    "            speakerLetter=1\n",
    "        elif speakerLetter == \"M\":\n",
    "            speakerLetter = 2\n",
    "        elif speakerLetter ==\"Y\":\n",
    "            speakerLetter = 3\n",
    "        else:\n",
    "            speakerLetter = 4\n",
    "        speakerNumber.append(speakerLetter)\n",
    "\n",
    "    data = data.drop(['filename'],axis=1)\n",
    "\n",
    "\n",
    "    print(data.tail())\n",
    "    \n",
    "    return data, speakerNumber\n"
   ]
  },
  {
   "cell_type": "markdown",
   "metadata": {},
   "source": [
    "***Speaker Recognition***"
   ]
  },
  {
   "cell_type": "code",
   "execution_count": 10,
   "metadata": {},
   "outputs": [
    {
     "name": "stdout",
     "output_type": "stream",
     "text": [
      "         rmse  spectral_centroid  spectral_bandwidth      rolloff  \\\n",
      "107  0.036961         900.262590         1228.633450  1710.715110   \n",
      "108  0.030798        1110.509419         1415.479838  2223.205344   \n",
      "109  0.043172        1029.468179         1322.851465  1998.239840   \n",
      "110  0.039588        1086.552395         1351.697446  2114.756303   \n",
      "111  0.029859         916.739124         1247.753847  1742.170715   \n",
      "\n",
      "     zero_crossing_rate       mfcc1       mfcc2      mfcc3      mfcc4  \\\n",
      "107            0.035929 -384.608643  144.547806   8.870942  20.455149   \n",
      "108            0.047576 -377.867615  147.641052  12.861173  29.303251   \n",
      "109            0.039006 -368.788727  147.944244   3.276975  19.193602   \n",
      "110            0.046777 -375.518097  142.554230   7.776324  18.943033   \n",
      "111            0.038239 -399.210754  149.685547  15.412180  12.311265   \n",
      "\n",
      "         mfcc5  ...    mfcc30    mfcc31    mfcc32    mfcc33    mfcc34  \\\n",
      "107  17.201056  ... -5.936404 -3.372059 -6.162612 -3.362956 -1.793169   \n",
      "108   7.407220  ... -3.957625 -5.848854 -5.028358 -0.060326 -2.647815   \n",
      "109  12.868071  ... -4.059534 -1.041569 -4.420043 -5.923615 -4.035215   \n",
      "110  11.607146  ... -5.287860 -3.281466 -3.859667 -1.042347 -2.691088   \n",
      "111  11.929899  ... -7.382219 -4.504726 -4.729310 -2.622808 -4.449813   \n",
      "\n",
      "       mfcc35    mfcc36    mfcc37    mfcc38    mfcc39  \n",
      "107 -2.867525 -2.074337  0.981576 -5.124632  0.422005  \n",
      "108 -2.938207 -2.298795 -0.090306 -5.299748  4.521146  \n",
      "109 -2.478376 -6.182919  0.487664 -5.075006 -3.532316  \n",
      "110 -1.899741  0.858136  1.705751 -3.368692 -0.251211  \n",
      "111 -4.060353 -3.073968 -0.262104 -3.486023  1.192688  \n",
      "\n",
      "[5 rows x 44 columns]\n"
     ]
    }
   ],
   "source": [
    "data, number = preProcessing(\"data.csv\")\n"
   ]
  },
  {
   "cell_type": "code",
   "execution_count": 11,
   "metadata": {},
   "outputs": [],
   "source": [
    "X= np.array(data)\n",
    "\n",
    "y=np.asarray(number)"
   ]
  },
  {
   "cell_type": "code",
   "execution_count": 21,
   "metadata": {},
   "outputs": [],
   "source": [
    "X_train, X_test, y_train, y_test = train_test_split(\n",
    "        X, y, test_size=0.3, random_state=123\n",
    "    )\n"
   ]
  },
  {
   "cell_type": "code",
   "execution_count": 28,
   "metadata": {},
   "outputs": [],
   "source": [
    "svm_model= svm.SVC(kernel='linear' , C=0.01)\n",
    "svm_model.fit(X_train, y_train) \n",
    "\n",
    "y_pred = svm_model.predict(X_test)\n",
    "\n"
   ]
  },
  {
   "cell_type": "code",
   "execution_count": 14,
   "metadata": {},
   "outputs": [
    {
     "name": "stdout",
     "output_type": "stream",
     "text": [
      "[2]\n"
     ]
    }
   ],
   "source": [
    "testing = feature_extraction_array('./Recording (13).wav')\n",
    "y_predict = svm_model.predict([testing])\n",
    "\n",
    "\n",
    "\n",
    "print(y_predict)\n"
   ]
  },
  {
   "cell_type": "code",
   "execution_count": 29,
   "metadata": {},
   "outputs": [
    {
     "name": "stdout",
     "output_type": "stream",
     "text": [
      "  Train model accuracy = 1e+02 %\n",
      "  Test model accuracy = 91.1 %\n"
     ]
    }
   ],
   "source": [
    "from sklearn import metrics\n",
    "y_pred_t = svm_model.predict(X_train)\n",
    "accuracy_t = metrics.accuracy_score(y_train,y_pred_t)\n",
    "\n",
    "\n",
    "print(f\"  Train model accuracy = {100* accuracy_t:.3} %\")\n",
    "accuracy = metrics.accuracy_score(y_test,y_pred)\n",
    "\n",
    "\n",
    "\n",
    "print(f\"  Test model accuracy = {100* accuracy:.3} %\")\n"
   ]
  },
  {
   "cell_type": "markdown",
   "metadata": {},
   "source": [
    "***Plot  SVM***"
   ]
  },
  {
   "cell_type": "code",
   "execution_count": 16,
   "metadata": {},
   "outputs": [],
   "source": [
    "import matplotlib.pyplot as plt"
   ]
  },
  {
   "cell_type": "code",
   "execution_count": 17,
   "metadata": {},
   "outputs": [
    {
     "ename": "ValueError",
     "evalue": "Argument Z must be 2-dimensional.",
     "output_type": "error",
     "traceback": [
      "\u001b[1;31m---------------------------------------------------------------------------\u001b[0m",
      "\u001b[1;31mValueError\u001b[0m                                Traceback (most recent call last)",
      "\u001b[1;32mg:\\SBME\\Third year\\First term\\DSP\\Tasks\\Dsp_Task_3\\P_Model.ipynb Cell 19\u001b[0m in \u001b[0;36m<cell line: 6>\u001b[1;34m()\u001b[0m\n\u001b[0;32m      <a href='vscode-notebook-cell:/g%3A/SBME/Third%20year/First%20term/DSP/Tasks/Dsp_Task_3/P_Model.ipynb#X24sZmlsZQ%3D%3D?line=3'>4</a>\u001b[0m ax\u001b[39m.\u001b[39mplot3D(X_train[:,\u001b[39m0\u001b[39m],X_train[:,\u001b[39m43\u001b[39m],X_train[:,\u001b[39m1\u001b[39m])\n\u001b[0;32m      <a href='vscode-notebook-cell:/g%3A/SBME/Third%20year/First%20term/DSP/Tasks/Dsp_Task_3/P_Model.ipynb#X24sZmlsZQ%3D%3D?line=4'>5</a>\u001b[0m ax\u001b[39m.\u001b[39mplot3D(testing[\u001b[39m0\u001b[39m],testing[\u001b[39m43\u001b[39m],testing[\u001b[39m1\u001b[39m],c\u001b[39m=\u001b[39m\u001b[39m'\u001b[39m\u001b[39mb\u001b[39m\u001b[39m'\u001b[39m)\n\u001b[1;32m----> <a href='vscode-notebook-cell:/g%3A/SBME/Third%20year/First%20term/DSP/Tasks/Dsp_Task_3/P_Model.ipynb#X24sZmlsZQ%3D%3D?line=5'>6</a>\u001b[0m ax\u001b[39m.\u001b[39;49mplot_surface(X_train[:,\u001b[39m0\u001b[39;49m],X_train[:,\u001b[39m43\u001b[39;49m],X_train[:,\u001b[39m1\u001b[39;49m],c\u001b[39m=\u001b[39;49mvector(y_pred_t))\n",
      "File \u001b[1;32mc:\\Users\\User\\AppData\\Local\\Programs\\Python\\Python38\\lib\\site-packages\\matplotlib\\_api\\deprecation.py:415\u001b[0m, in \u001b[0;36mdelete_parameter.<locals>.wrapper\u001b[1;34m(*inner_args, **inner_kwargs)\u001b[0m\n\u001b[0;32m    405\u001b[0m     deprecation_addendum \u001b[39m=\u001b[39m (\n\u001b[0;32m    406\u001b[0m         \u001b[39mf\u001b[39m\u001b[39m\"\u001b[39m\u001b[39mIf any parameter follows \u001b[39m\u001b[39m{\u001b[39;00mname\u001b[39m!r}\u001b[39;00m\u001b[39m, they should be passed as \u001b[39m\u001b[39m\"\u001b[39m\n\u001b[0;32m    407\u001b[0m         \u001b[39mf\u001b[39m\u001b[39m\"\u001b[39m\u001b[39mkeyword, not positionally.\u001b[39m\u001b[39m\"\u001b[39m)\n\u001b[0;32m    408\u001b[0m     warn_deprecated(\n\u001b[0;32m    409\u001b[0m         since,\n\u001b[0;32m    410\u001b[0m         name\u001b[39m=\u001b[39m\u001b[39mrepr\u001b[39m(name),\n\u001b[1;32m   (...)\u001b[0m\n\u001b[0;32m    413\u001b[0m                  \u001b[39melse\u001b[39;00m deprecation_addendum,\n\u001b[0;32m    414\u001b[0m         \u001b[39m*\u001b[39m\u001b[39m*\u001b[39mkwargs)\n\u001b[1;32m--> 415\u001b[0m \u001b[39mreturn\u001b[39;00m func(\u001b[39m*\u001b[39;49minner_args, \u001b[39m*\u001b[39;49m\u001b[39m*\u001b[39;49minner_kwargs)\n",
      "File \u001b[1;32mc:\\Users\\User\\AppData\\Local\\Programs\\Python\\Python38\\lib\\site-packages\\mpl_toolkits\\mplot3d\\axes3d.py:1581\u001b[0m, in \u001b[0;36mAxes3D.plot_surface\u001b[1;34m(self, X, Y, Z, norm, vmin, vmax, lightsource, *args, **kwargs)\u001b[0m\n\u001b[0;32m   1578\u001b[0m had_data \u001b[39m=\u001b[39m \u001b[39mself\u001b[39m\u001b[39m.\u001b[39mhas_data()\n\u001b[0;32m   1580\u001b[0m \u001b[39mif\u001b[39;00m Z\u001b[39m.\u001b[39mndim \u001b[39m!=\u001b[39m \u001b[39m2\u001b[39m:\n\u001b[1;32m-> 1581\u001b[0m     \u001b[39mraise\u001b[39;00m \u001b[39mValueError\u001b[39;00m(\u001b[39m\"\u001b[39m\u001b[39mArgument Z must be 2-dimensional.\u001b[39m\u001b[39m\"\u001b[39m)\n\u001b[0;32m   1583\u001b[0m Z \u001b[39m=\u001b[39m cbook\u001b[39m.\u001b[39m_to_unmasked_float_array(Z)\n\u001b[0;32m   1584\u001b[0m X, Y, Z \u001b[39m=\u001b[39m np\u001b[39m.\u001b[39mbroadcast_arrays(X, Y, Z)\n",
      "\u001b[1;31mValueError\u001b[0m: Argument Z must be 2-dimensional."
     ]
    },
    {
     "data": {
      "image/png": "[encoded data removed]",
      "text/plain": [
       "<Figure size 432x288 with 1 Axes>"
      ]
     },
     "metadata": {
      "needs_background": "light"
     },
     "output_type": "display_data"
    }
   ],
   "source": [
    "vector = np.vectorize(np.int_)\n",
    "fig = plt.figure()\n",
    "ax  = fig.add_subplot(111, projection='3d')\n",
    "ax.plot3D(X_train[:,0],X_train[:,43],X_train[:,1])\n",
    "ax.plot3D(testing[0],testing[43],testing[1],c='b')\n",
    "ax.plot_surface(X_train[:,0],X_train[:,43],X_train[:,1],c=vector(y_pred_t))"
   ]
  },
  {
   "cell_type": "markdown",
   "metadata": {},
   "source": [
    "***Spoken Digit Recognition***"
   ]
  },
  {
   "cell_type": "code",
   "execution_count": null,
   "metadata": {},
   "outputs": [],
   "source": [
    "\"\"\"\"loop that clac all differnces between each item in array with the other\"\"\"\n",
    "def distance(array):    \n",
    "    dist = []\n",
    "    for i in range(len(array)):\n",
    "        for j in range(len(array)):\n",
    "            dist.append(np.linalg.norm(array[i]-array[j]))\n",
    "    return dist "
   ]
  },
  {
   "cell_type": "code",
   "execution_count": null,
   "metadata": {},
   "outputs": [],
   "source": [
    "dist = distance(vector(y_train))"
   ]
  },
  {
   "cell_type": "code",
   "execution_count": null,
   "metadata": {},
   "outputs": [],
   "source": [
    "import pickle as plk"
   ]
  },
  {
   "cell_type": "code",
   "execution_count": null,
   "metadata": {},
   "outputs": [],
   "source": [
    "filename = 'Person_model.sav'\n",
    "plk.dump(svm_model, open(filename, 'wb'))"
   ]
  },
  {
   "cell_type": "code",
   "execution_count": null,
   "metadata": {},
   "outputs": [],
   "source": []
  }
 ],
 "metadata": {
  "kernelspec": {
   "display_name": "Python 3.8.3 64-bit",
   "language": "python",
   "name": "python3"
  },
  "language_info": {
   "codemirror_mode": {
    "name": "ipython",
    "version": 3
   },
   "file_extension": ".py",
   "mimetype": "text/x-python",
   "name": "python",
   "nbconvert_exporter": "python",
   "pygments_lexer": "ipython3",
   "version": "3.8.3"
  },
  "vscode": {
   "interpreter": {
    "hash": "f544ce1a915a9875fad91c894e2c0bcad4b7a79945aa6027ef3ad27810072aa6"
   }
  }
 },
 "nbformat": 4,
 "nbformat_minor": 2
}
