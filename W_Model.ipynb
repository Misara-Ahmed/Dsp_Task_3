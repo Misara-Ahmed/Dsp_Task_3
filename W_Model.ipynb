{
 "cells": [
  {
   "cell_type": "code",
   "execution_count": 1,
   "metadata": {},
   "outputs": [],
   "source": [
    "import librosa as librosa\n",
    "import librosa.display\n",
    "import IPython.display as ipd\n",
    "import numpy as np\n",
    "import csv\n",
    "import pandas as pd\n",
    "import matplotlib.pyplot as plt\n",
    "import numpy as np\n",
    "from sklearn.model_selection import train_test_split\n",
    "from sklearn import svm\n",
    "from sklearn.metrics import classification_report\n",
    "import librosa\n",
    "from sklearn.svm import SVC \n",
    "from sklearn import preprocessing\n",
    "from sklearn.metrics import classification_report, confusion_matrix\n"
   ]
  },
  {
   "cell_type": "code",
   "execution_count": null,
   "metadata": {},
   "outputs": [],
   "source": [
    "def mfccc( y=None, sr=22050, S=None, n_mfcc=20, dct_type=2, norm=\"ortho\", lifter=0):\n",
    "    if S is None:\n",
    "        # multichannel behavior may be different due to relative noise floor differences between channels\n",
    "        S = power_to_db(librosa.feature.melspectrogram(y=y, sr=sr))\n",
    "\n",
    "    M = scipy.fftpack.dct(S, axis=-2, type=dct_type, norm=norm)[..., :n_mfcc, :]\n",
    "\n",
    "    if lifter > 0:\n",
    "        # shape lifter for broadcasting\n",
    "        LI = np.sin(np.pi * np.arange(1, 1 + n_mfcc, dtype=M.dtype) / lifter)\n",
    "        LI = util.expand_to(LI, ndim=S.ndim, axes=-2)\n",
    "\n",
    "        M *= 1 + (lifter / 2) * LI\n",
    "        return M\n",
    "    elif lifter == 0:\n",
    "        return M\n",
    "    else:\n",
    "        raise ParameterError(\n",
    "            \"MFCC lifter={} must be a non-negative number\".format(lifter)\n",
    "        )"
   ]
  },
  {
   "cell_type": "code",
   "execution_count": null,
   "metadata": {},
   "outputs": [],
   "source": [
    "def rms(y=None, S=None, frame_length=2048, hop_length=512, center=True, pad_mode=\"constant\",):\n",
    "    if y is not None:\n",
    "        if center:\n",
    "            padding = [(0, 0) for _ in range(y.ndim)]\n",
    "            padding[-1] = (int(frame_length // 2), int(frame_length // 2))\n",
    "            y = np.pad(y, padding, mode=pad_mode)\n",
    "\n",
    "        x = util.frame(y, frame_length=frame_length, hop_length=hop_length)\n",
    "\n",
    "        # Calculate power\n",
    "        power = np.mean(np.abs(x) ** 2, axis=-2, keepdims=True)\n",
    "    elif S is not None:\n",
    "        # Check the frame length\n",
    "        if S.shape[-2] != frame_length // 2 + 1:\n",
    "            raise ParameterError(\n",
    "                \"Since S.shape[-2] is {}, \"\n",
    "                \"frame_length is expected to be {} or {}; \"\n",
    "                \"found {}\".format(\n",
    "                    S.shape[-2], S.shape[-2] * 2 - 2, S.shape[-2] * 2 - 1, frame_length\n",
    "                )\n",
    "            )\n",
    "\n",
    "        # power spectrogram\n",
    "        x = np.abs(S) ** 2\n",
    "\n",
    "        # Adjust the DC and sr/2 component\n",
    "        x[..., 0, :] *= 0.5\n",
    "        if frame_length % 2 == 0:\n",
    "            x[..., -1, :] *= 0.5\n",
    "\n",
    "        # Calculate power\n",
    "        power = 2 * np.sum(x, axis=-2, keepdims=True) / frame_length ** 2\n",
    "    else:\n",
    "        raise ParameterError(\"Either `y` or `S` must be input.\")\n",
    "\n",
    "    return np.sqrt(power)"
   ]
  },
  {
   "cell_type": "code",
   "execution_count": null,
   "metadata": {},
   "outputs": [],
   "source": [
    "def spectral_centroid(y=None, sr=22050, S=None, n_fft=2048, hop_length=512, freq=None, win_length=None, window=\"hann\",\n",
    "                      center=True, pad_mode=\"constant\" ):\n",
    "    S, n_fft = librosa.core.spectrum._spectrogram(\n",
    "        y=y,\n",
    "        S=S,\n",
    "        n_fft=n_fft,\n",
    "        hop_length=hop_length,\n",
    "        win_length=win_length,\n",
    "        window=window,\n",
    "        center=center,\n",
    "        pad_mode=pad_mode)\n",
    "    \n",
    "    if not np.isrealobj(S):\n",
    "        raise ParameterError(\n",
    "            \"Spectral centroid is only defined \" \"with real-valued input\"\n",
    "        )\n",
    "        \n",
    "    elif np.any(S < 0):\n",
    "        raise ParameterError(\n",
    "            \"Spectral centroid is only defined \" \"with non-negative energies\"\n",
    "        )\n",
    "        \n",
    "    # Compute the center frequencies of each bin\n",
    "    if freq is None:\n",
    "        freq = librosa.fft_frequencies(sr=sr, n_fft=n_fft)\n",
    "        \n",
    "    if freq.ndim == 1:\n",
    "        # reshape for broadcasting\n",
    "        freq = util.expand_to(freq, ndim=S.ndim, axes=-2)\n",
    "        \n",
    "        # Column-normalize S\n",
    "        \n",
    "    return np.sum(freq * util.normalize(S, norm=1, axis=-2), axis=-2, keepdims=True)\n"
   ]
  },
  {
   "cell_type": "code",
   "execution_count": null,
   "metadata": {},
   "outputs": [],
   "source": [
    "def spectral_bandwidth(y=None, sr=22050, S=None, n_fft=2048, hop_length=512, win_length=None, window=\"hann\", center=True,\n",
    "    pad_mode=\"constant\", freq=None, centroid=None, norm=True, p=2 ):\n",
    "    S, n_fft = librosa.core.spectrum._spectrogram(\n",
    "        y=y,\n",
    "        S=S,\n",
    "        n_fft=n_fft,\n",
    "        hop_length=hop_length,\n",
    "        win_length=win_length,\n",
    "        window=window,\n",
    "        center=center,\n",
    "        pad_mode=pad_mode,\n",
    "    )\n",
    "    \n",
    "    if not np.isrealobj(S):\n",
    "        raise ParameterError(\n",
    "            \"Spectral bandwidth is only defined \" \"with real-valued input\"\n",
    "        )\n",
    "    elif np.any(S < 0):\n",
    "        raise ParameterError(\n",
    "            \"Spectral bandwidth is only defined \" \"with non-negative energies\"\n",
    "        )\n",
    "\n",
    "    # centroid or center?\n",
    "    if centroid is None:\n",
    "        centroid = spectral_centroid(\n",
    "            y=y, sr=sr, S=S, n_fft=n_fft, hop_length=hop_length, freq=freq\n",
    "        )\n",
    "\n",
    "    # Compute the center frequencies of each bin\n",
    "    if freq is None:\n",
    "        freq = librosa.fft_frequencies(sr=sr, n_fft=n_fft)\n",
    "\n",
    "    if freq.ndim == 1:\n",
    "        deviation = np.abs(\n",
    "            np.subtract.outer(centroid[..., 0, :], freq).swapaxes(-2, -1)\n",
    "        )\n",
    "    else:\n",
    "        deviation = np.abs(freq - centroid)\n",
    "\n",
    "    # Column-normalize S\n",
    "    if norm:\n",
    "        S = util.normalize(S, norm=1, axis=-2)\n",
    "\n",
    "    return np.sum(S * deviation ** p, axis=-2, keepdims=True) ** (1.0 / p)\n"
   ]
  },
  {
   "cell_type": "code",
   "execution_count": null,
   "metadata": {},
   "outputs": [],
   "source": [
    "def spectral_rolloff(y=None, sr=22050, S=None, n_fft=2048, hop_length=512, win_length=None, window=\"hann\", center=True,\n",
    "    pad_mode=\"constant\", freq=None, roll_percent=0.85 ):\n",
    "    if not 0.0 < roll_percent < 1.0:\n",
    "        raise ParameterError(\"roll_percent must lie in the range (0, 1)\")\n",
    "\n",
    "    S, n_fft = librosa.core.spectrum._spectrogram(\n",
    "        y=y,\n",
    "        S=S,\n",
    "        n_fft=n_fft,\n",
    "        hop_length=hop_length,\n",
    "        win_length=win_length,\n",
    "        window=window,\n",
    "        center=center,\n",
    "        pad_mode=pad_mode,\n",
    "    )\n",
    "\n",
    "    if not np.isrealobj(S):\n",
    "        raise ParameterError(\n",
    "            \"Spectral rolloff is only defined \" \"with real-valued input\"\n",
    "        )\n",
    "    elif np.any(S < 0):\n",
    "        raise ParameterError(\n",
    "            \"Spectral rolloff is only defined \" \"with non-negative energies\"\n",
    "        )\n",
    "\n",
    "    # Compute the center frequencies of each bin\n",
    "    if freq is None:\n",
    "        freq = librosa.fft_frequencies(sr=sr, n_fft=n_fft)\n",
    "\n",
    "    # Make sure that frequency can be broadcast\n",
    "    if freq.ndim == 1:\n",
    "        # reshape for broadcasting\n",
    "        freq = util.expand_to(freq, ndim=S.ndim, axes=-2)\n",
    "\n",
    "    total_energy = np.cumsum(S, axis=-2)\n",
    "    # (channels,freq,frames)\n",
    "\n",
    "    threshold = roll_percent * total_energy[..., -1, :]\n",
    "\n",
    "    # reshape threshold for broadcasting\n",
    "    threshold = np.expand_dims(threshold, axis=-2)\n",
    "\n",
    "    ind = np.where(total_energy < threshold, np.nan, 1)\n",
    "\n",
    "    return np.nanmin(ind * freq, axis=-2, keepdims=True)"
   ]
  },
  {
   "cell_type": "code",
   "execution_count": null,
   "metadata": {},
   "outputs": [],
   "source": [
    "def zero_crossing_rate(y, *, frame_length=2048, hop_length=512, center=True, **kwargs):\n",
    "    # check if audio is valid\n",
    "    util.valid_audio(y, mono=False)\n",
    "\n",
    "    if center:\n",
    "        padding = [(0, 0) for _ in range(y.ndim)]\n",
    "        padding[-1] = (int(frame_length // 2), int(frame_length // 2))\n",
    "        y = np.pad(y, padding, mode=\"edge\")\n",
    "\n",
    "    y_framed = util.frame(y, frame_length=frame_length, hop_length=hop_length)\n",
    "\n",
    "    kwargs[\"axis\"] = -2\n",
    "    kwargs.setdefault(\"pad\", False)\n",
    "\n",
    "    crossings = librosa.zero_crossings(y_framed, **kwargs)\n",
    "\n",
    "    return np.mean(crossings, axis=-2, keepdims=True)"
   ]
  },
  {
   "cell_type": "code",
   "execution_count": null,
   "metadata": {},
   "outputs": [],
   "source": []
  },
  {
   "cell_type": "code",
   "execution_count": 24,
   "metadata": {},
   "outputs": [],
   "source": [
    "\n",
    "header = 'filename rmse spectral_centroid spectral_bandwidth rolloff zero_crossing_rate'\n",
    "\n",
    "for i in range(1, 40):\n",
    "    header += f' mfcc{i}'\n",
    "header = header.split()\n",
    "# print('CSV Header: ', header)\n",
    "file = open(\"data.csv\", 'w', newline='')\n",
    "writer = csv.writer(file)\n",
    "writer.writerow(header)\n",
    "file.close()\n",
    "\n",
    "\n",
    "def writeCsv(data):\n",
    "    file = open(\"data.csv\", 'a', newline='')\n",
    "    writer = csv.writer(file)\n",
    "    writer.writerow(data.split(\",\"))\n",
    "    file.close()\n",
    "\n",
    "\n",
    "\n",
    "def feature_extraction(file_path):\n",
    "    # iterate through all file\n",
    "        y, sr = librosa.load(file_path, mono=True, duration=30)\n",
    "            # remove leading and trailing silence\n",
    "        y, index = librosa.effects.trim(y)\n",
    "        # chroma_stft = librosa.feature.chroma_stft(y=y, sr=sr)\n",
    "        rmse = rms(y=y)\n",
    "        #rmse = librosa.feature.rms(y=y)\n",
    "        spec_cent = spectral_centroid(y=y, sr=sr)\n",
    "        #spec_cent = librosa.feature.spectral_centroid(y=y, sr=sr)\n",
    "        spec_bw = spectral_bandwidth(y=y, sr=sr)\n",
    "        #spec_bw = librosa.feature.spectral_bandwidth(y=y, sr=sr)\n",
    "        rolloff = spectral_rolloff(y=y, sr=sr)\n",
    "        #rolloff = librosa.feature.spectral_rolloff(y=y, sr=sr)\n",
    "        zcr = zero_crossing_rate(y)\n",
    "        #zcr = librosa.feature.zero_crossing_rate(y)\n",
    "        mfcc = mfccc(y=y, sr=sr,n_mfcc=39)\n",
    "        #mfcc = librosa.feature.mfcc(y=y, sr=sr,n_mfcc=39)\n",
    "        to_append = f'{file},{np.mean(rmse)},{np.mean(spec_cent)},{np.mean(spec_bw)},{np.mean(rolloff)},{np.mean(zcr)}'\n",
    "        for e in mfcc:\n",
    "            to_append += f',{np.mean(e)}'\n",
    "        \n",
    "        writeCsv(to_append)\n",
    "        return to_append\n",
    "\n",
    "to_append =[]\n",
    "\n",
    "\n",
    "\n",
    "\n",
    "\n",
    "\n",
    "path ='./Data/Word_data/'\n",
    "\n",
    "for file in os.listdir(path):\n",
    "    # print(file)\n",
    "    file_path = f\"{path}\\{file}\"  \n",
    "    data = feature_extraction(file_path)\n",
    "\n",
    "\n",
    "\n",
    "\n",
    "\n",
    "\n",
    "\n",
    "\n",
    "    "
   ]
  },
  {
   "cell_type": "code",
   "execution_count": 25,
   "metadata": {},
   "outputs": [],
   "source": [
    "def feature_extraction_array(file_path):\n",
    "    to_append =[]\n",
    "    # iterate through all file\n",
    "    y, sr = librosa.load(file_path, mono=True, duration=30)\n",
    "        # remove leading and trailing silence\n",
    "    y, index = librosa.effects.trim(y)\n",
    "    # chroma_stft = librosa.feature.chroma_stft(y=y, sr=sr)\n",
    "    #rmse = librosa.feature.rms(y=y)\n",
    "    rmse = rms(y=y)\n",
    "    #spec_cent = librosa.feature.spectral_centroid(y=y, sr=sr)\n",
    "    spec_cent = spectral_centroid(y=y, sr=sr)\n",
    "    #spec_bw = librosa.feature.spectral_bandwidth(y=y, sr=sr)\n",
    "    spec_bw = spectral_bandwidth(y=y, sr=sr)\n",
    "    #rolloff = librosa.feature.spectral_rolloff(y=y, sr=sr)\n",
    "    rolloff = spectral_rolloff(y=y, sr=sr)\n",
    "    #zcr = librosa.feature.zero_crossing_rate(y)\n",
    "    zcr = zero_crossing_rate(y)\n",
    "    #mfcc = librosa.feature.mfcc(y=y, sr=sr,n_mfcc=39, n_fft=1024, hop_length=512)\n",
    "    mfcc = mfccc(y=y, sr=sr,n_mfcc=39)\n",
    "    to_append.append(np.mean(rmse))\n",
    "    to_append.append(np.mean(spec_cent))\n",
    "    to_append.append(np.mean(spec_bw))\n",
    "    to_append.append(np.mean(rolloff))\n",
    "    to_append.append(np.mean(zcr))\n",
    "    for e in mfcc:\n",
    "        to_append.append(np.mean(e))\n",
    "    return to_append\n",
    "    \n",
    "    \n",
    "def preProcessing(csvName):\n",
    "    data = pd.read_csv(csvName)\n",
    "    audioName = data['filename']\n",
    "    speakerNumber = []\n",
    "    for i in range(len(audioName)):\n",
    "        speakerLetter = audioName[i][0]\n",
    "        if speakerLetter == \"O\":\n",
    "            speakerLetter = 0\n",
    "        elif speakerLetter ==\"R\":\n",
    "            speakerLetter=1\n",
    "        elif speakerLetter == \"C\":\n",
    "            speakerLetter = 2\n",
    "        # elif speakerLetter ==\"Y\":\n",
    "        #     speakerLetter = \"3\"\n",
    "        # else:\n",
    "        #     speakerLetter = \"4\"\n",
    "        speakerNumber.append(speakerLetter)\n",
    "\n",
    "    data = data.drop(['filename'],axis=1)\n",
    "\n",
    "\n",
    "    print(data.tail())\n",
    "    \n",
    "    return data, speakerNumber\n"
   ]
  },
  {
   "cell_type": "markdown",
   "metadata": {},
   "source": [
    "***Speaker Recognition***"
   ]
  },
  {
   "cell_type": "code",
   "execution_count": 26,
   "metadata": {},
   "outputs": [
    {
     "name": "stdout",
     "output_type": "stream",
     "text": [
      "        rmse  spectral_centroid  spectral_bandwidth      rolloff  \\\n",
      "66  0.025511        1194.477561         1496.262869  2323.163452   \n",
      "67  0.025709        1202.955782         1471.338047  2286.630415   \n",
      "68  0.030340        1233.013756         1504.318762  2514.490856   \n",
      "69  0.036607        1232.237562         1352.150501  2384.595196   \n",
      "70  0.028895        1345.563950         1506.616325  2510.412598   \n",
      "\n",
      "    zero_crossing_rate       mfcc1       mfcc2      mfcc3      mfcc4  \\\n",
      "66            0.055847 -381.578247  162.732574  -0.119382  35.241562   \n",
      "67            0.056419 -381.840424  145.617859   6.871510  16.306547   \n",
      "68            0.050500 -365.754486  144.864944  -0.281761  23.109652   \n",
      "69            0.065608 -342.940613  156.053986  -8.284063  20.115765   \n",
      "70            0.079930 -365.655060  150.574646 -18.352568  36.477215   \n",
      "\n",
      "        mfcc5  ...    mfcc30    mfcc31    mfcc32    mfcc33    mfcc34  \\\n",
      "66  12.165400  ... -3.368141 -2.947005 -7.199889  5.051301 -4.310641   \n",
      "67  11.499221  ... -1.898717  1.047620 -3.397784  3.072959 -1.484160   \n",
      "68   9.269561  ... -3.374100 -0.790047 -5.738343  4.385224  0.276106   \n",
      "69  15.711034  ... -1.003064 -1.450145 -5.935298  3.687453 -2.714058   \n",
      "70  12.444294  ... -1.128064 -4.045399 -5.650033  4.541031 -4.504353   \n",
      "\n",
      "      mfcc35    mfcc36    mfcc37    mfcc38    mfcc39  \n",
      "66 -3.147524 -0.790732  1.865156 -4.889418  1.483373  \n",
      "67 -0.965582 -3.327647 -1.028762 -1.554339 -0.779977  \n",
      "68 -3.488403 -1.355539 -2.092316 -5.000021 -0.742189  \n",
      "69 -3.641589 -2.331500 -1.846649 -3.132575 -0.824620  \n",
      "70 -1.744386 -2.479012 -1.838342 -3.500153  4.591382  \n",
      "\n",
      "[5 rows x 44 columns]\n"
     ]
    }
   ],
   "source": [
    "data, number = preProcessing(\"data.csv\")\n"
   ]
  },
  {
   "cell_type": "code",
   "execution_count": 27,
   "metadata": {},
   "outputs": [],
   "source": [
    "X= np.array(data)\n",
    "\n",
    "y=np.asarray(number)"
   ]
  },
  {
   "cell_type": "code",
   "execution_count": 28,
   "metadata": {},
   "outputs": [],
   "source": [
    "X_train, X_test, y_train, y_test = train_test_split(\n",
    "        X, y, test_size=0.3, random_state=123\n",
    "    )\n"
   ]
  },
  {
   "cell_type": "code",
   "execution_count": 68,
   "metadata": {},
   "outputs": [],
   "source": [
    "svm_model= svm.SVC(kernel='linear' , C=0.004)\n",
    "svm_model.fit(X_train, y_train) \n",
    "\n",
    "y_pred = svm_model.predict(X_test)\n",
    "\n"
   ]
  },
  {
   "cell_type": "code",
   "execution_count": 71,
   "metadata": {},
   "outputs": [
    {
     "name": "stdout",
     "output_type": "stream",
     "text": [
      "[0]\n"
     ]
    }
   ],
   "source": [
    "testing = feature_extraction_array('./other(54).wav')\n",
    "y_predict = svm_model.predict([testing])\n",
    "\n",
    "\n",
    "\n",
    "print(y_predict)\n"
   ]
  },
  {
   "cell_type": "code",
   "execution_count": 69,
   "metadata": {},
   "outputs": [
    {
     "name": "stdout",
     "output_type": "stream",
     "text": [
      "  Train model accuracy = 98.0 %\n",
      "  Test model accuracy = 90.9 %\n"
     ]
    }
   ],
   "source": [
    "from sklearn import metrics\n",
    "y_pred_t = svm_model.predict(X_train)\n",
    "accuracy_t = metrics.accuracy_score(y_train,y_pred_t)\n",
    "\n",
    "\n",
    "print(f\"  Train model accuracy = {100* accuracy_t:.3} %\")\n",
    "accuracy = metrics.accuracy_score(y_test,y_pred)\n",
    "\n",
    "\n",
    "print(f\"  Test model accuracy = {100* accuracy:.3} %\")\n"
   ]
  },
  {
   "cell_type": "markdown",
   "metadata": {},
   "source": [
    "***Plot  SVM***"
   ]
  },
  {
   "cell_type": "code",
   "execution_count": 106,
   "metadata": {},
   "outputs": [],
   "source": [
    "import matplotlib.pyplot as plt"
   ]
  },
  {
   "cell_type": "code",
   "execution_count": 79,
   "metadata": {},
   "outputs": [
    {
     "data": {
      "text/plain": [
       "<matplotlib.collections.PathCollection at 0x2210b13f9d0>"
      ]
     },
     "execution_count": 79,
     "metadata": {},
     "output_type": "execute_result"
    },
    {
     "data": {
      "image/png": "[encoded data removed]",
      "text/plain": [
       "<Figure size 432x288 with 1 Axes>"
      ]
     },
     "metadata": {
      "needs_background": "light"
     },
     "output_type": "display_data"
    }
   ],
   "source": [
    "vector = np.vectorize(np.int_)\n",
    "plt.scatter(X_train[:,1],X_train[:,15],c=vector(y_pred_t), cmap='Set3')\n",
    "plt.scatter(testing[1],testing[15],c='b', cmap='Set3')"
   ]
  },
  {
   "cell_type": "markdown",
   "metadata": {},
   "source": [
    "***Spoken Digit Recognition***"
   ]
  },
  {
   "cell_type": "code",
   "execution_count": 75,
   "metadata": {},
   "outputs": [],
   "source": [
    "\"\"\"\"loop that clac all differnces between each item in array with the other\"\"\"\n",
    "def distance(array):    \n",
    "    dist = []\n",
    "    for i in range(len(array)):\n",
    "        for j in range(len(array)):\n",
    "            dist.append(np.linalg.norm(array[i]-array[j]))\n",
    "    return dist "
   ]
  },
  {
   "cell_type": "code",
   "execution_count": 76,
   "metadata": {},
   "outputs": [],
   "source": [
    "dist = distance(vector(y_train))"
   ]
  },
  {
   "cell_type": "code",
   "execution_count": null,
   "metadata": {},
   "outputs": [],
   "source": []
  }
 ],
 "metadata": {
  "kernelspec": {
   "display_name": "Python 3",
   "language": "python",
   "name": "python3"
  },
  "language_info": {
   "codemirror_mode": {
    "name": "ipython",
    "version": 3
   },
   "file_extension": ".py",
   "mimetype": "text/x-python",
   "name": "python",
   "nbconvert_exporter": "python",
   "pygments_lexer": "ipython3",
   "version": "3.8.8"
  },
  "vscode": {
   "interpreter": {
    "hash": "f544ce1a915a9875fad91c894e2c0bcad4b7a79945aa6027ef3ad27810072aa6"
   }
  }
 },
 "nbformat": 4,
 "nbformat_minor": 2
}
