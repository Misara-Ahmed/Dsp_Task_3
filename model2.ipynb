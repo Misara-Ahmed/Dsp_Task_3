{
 "cells": [
  {
   "cell_type": "markdown",
   "id": "45d61527",
   "metadata": {},
   "source": [
    "# import libs we will use"
   ]
  },
  {
   "cell_type": "code",
   "execution_count": 15,
   "id": "c70d3fd2",
   "metadata": {},
   "outputs": [],
   "source": [
    "import os \n",
    "import librosa\n",
    "import numpy as np\n",
    "import pandas as pd"
   ]
  },
  {
   "cell_type": "markdown",
   "id": "8a993d8f",
   "metadata": {},
   "source": [
    "read files from folder"
   ]
  },
  {
   "cell_type": "code",
   "execution_count": 16,
   "id": "5567b7cc",
   "metadata": {},
   "outputs": [
    {
     "name": "stderr",
     "output_type": "stream",
     "text": [
      "C:\\Users\\Misara\\anaconda3\\lib\\site-packages\\librosa\\util\\decorators.py:88: UserWarning: n_fft=1024 is too small for input signal of length=993\n",
      "  return f(*args, **kwargs)\n",
      "C:\\Users\\Misara\\anaconda3\\lib\\site-packages\\librosa\\util\\decorators.py:88: UserWarning: n_fft=1024 is too small for input signal of length=1015\n",
      "  return f(*args, **kwargs)\n",
      "C:\\Users\\Misara\\anaconda3\\lib\\site-packages\\librosa\\util\\decorators.py:88: UserWarning: n_fft=1024 is too small for input signal of length=905\n",
      "  return f(*args, **kwargs)\n",
      "C:\\Users\\Misara\\anaconda3\\lib\\site-packages\\librosa\\util\\decorators.py:88: UserWarning: n_fft=1024 is too small for input signal of length=794\n",
      "  return f(*args, **kwargs)\n",
      "C:\\Users\\Misara\\anaconda3\\lib\\site-packages\\librosa\\util\\decorators.py:88: UserWarning: n_fft=1024 is too small for input signal of length=912\n",
      "  return f(*args, **kwargs)\n",
      "C:\\Users\\Misara\\anaconda3\\lib\\site-packages\\librosa\\util\\decorators.py:88: UserWarning: n_fft=1024 is too small for input signal of length=963\n",
      "  return f(*args, **kwargs)\n",
      "C:\\Users\\Misara\\anaconda3\\lib\\site-packages\\librosa\\util\\decorators.py:88: UserWarning: n_fft=1024 is too small for input signal of length=677\n",
      "  return f(*args, **kwargs)\n",
      "C:\\Users\\Misara\\anaconda3\\lib\\site-packages\\librosa\\util\\decorators.py:88: UserWarning: n_fft=1024 is too small for input signal of length=853\n",
      "  return f(*args, **kwargs)\n"
     ]
    }
   ],
   "source": [
    "path = \"/Partitiion/3rd Year/1st Term/DSP_Task3/Task'3/Dsp_Task_3/Wav/Train_2\"\n",
    "files = os.listdir(path)\n",
    "label =[]\n",
    "max_pitch = []\n",
    "avg_pitch = []\n",
    "var_pitch = []\n",
    "harmonic = []\n",
    "harmonic_var = []\n",
    "percussive = []\n",
    "percussive_var = []\n",
    "chroma=[]\n",
    "#print(np.mean(chroma))\n",
    "Chroma_cens = []\n",
    "Chroma_cens_var = []                   \n",
    "chroma_stft =[]\n",
    "chroma_stft_mean = []\n",
    "chroma_stft_var = []                       \n",
    "chroma_cqt =[]\n",
    "chroma_cqt_mean = []\n",
    "chroma_cqt_var = []\n",
    "for f in files:\n",
    "    if f[0] == 'A':\n",
    "        label.append(0)\n",
    "    elif f[0] == 'M':\n",
    "        label.append(1)\n",
    "    else:\n",
    "        label.append(2)\n",
    "    file_name = path+'/'+f\n",
    "    audio,sfreq = librosa.load(file_name)\n",
    "    S = np.abs(librosa.stft(audio))\n",
    "    pitches,magnitudes =librosa.core.piptrack(y = audio ,sr = sfreq)\n",
    "    #min_pitch = np.min(pitches)\n",
    "    max_pitch.append(np.max(pitches))\n",
    "    avg_pitch.append(np.mean(pitches))\n",
    "    var_pitch.append(np.var(pitches))\n",
    "    y_harmonic, y_percussive = librosa.effects.hpss(audio)\n",
    "    harmonic.append(np.mean(y_harmonic))\n",
    "    harmonic_var.append(np.var(y_harmonic))\n",
    "    percussive.append(np.mean(y_percussive))\n",
    "    percussive_var.append(np.var(y_percussive))\n",
    "    chroma=librosa.feature.chroma_cens(y=y_harmonic, sr=sfreq)\n",
    "    #print(np.mean(chroma))\n",
    "    Chroma_cens.append(np.mean(chroma))\n",
    "    Chroma_cens_var.append(np.var(chroma))                        \n",
    "    chroma_stft =librosa.feature.chroma_stft(y=y_harmonic, sr=sfreq)\n",
    "    chroma_stft_mean.append(np.mean(chroma_stft))\n",
    "    chroma_stft_var.append(np.var(chroma_stft))                        \n",
    "    chroma_cqt =librosa.feature.chroma_cqt(y=y_harmonic, sr=sfreq)\n",
    "    chroma_cqt_mean.append(np.mean(chroma_cqt))\n",
    "    chroma_cqt_var.append(np.var(chroma_cqt))"
   ]
  },
  {
   "cell_type": "code",
   "execution_count": 18,
   "id": "61f0d188",
   "metadata": {},
   "outputs": [],
   "source": [
    "df = pd.DataFrame({'max_pitch':max_pitch,'avg_pitch':avg_pitch,'var_pitch':var_pitch,'harmonic':harmonic,'harmonic_var':harmonic_var,'percussive':percussive,'percussive_var':percussive_var,'Chroma_cens':Chroma_cens,'Chroma_cens_var':Chroma_cens_var,'chroma_stft_mean':chroma_stft_mean,'chroma_stft_var':chroma_stft_var,'chroma_cqt_mean':chroma_cqt_mean,'chroma_cqt_var':chroma_cqt_var,'label':label})"
   ]
  },
  {
   "cell_type": "code",
   "execution_count": 19,
   "id": "5380e051",
   "metadata": {},
   "outputs": [
    {
     "data": {
      "text/html": [
       "<div>\n",
       "<style scoped>\n",
       "    .dataframe tbody tr th:only-of-type {\n",
       "        vertical-align: middle;\n",
       "    }\n",
       "\n",
       "    .dataframe tbody tr th {\n",
       "        vertical-align: top;\n",
       "    }\n",
       "\n",
       "    .dataframe thead th {\n",
       "        text-align: right;\n",
       "    }\n",
       "</style>\n",
       "<table border=\"1\" class=\"dataframe\">\n",
       "  <thead>\n",
       "    <tr style=\"text-align: right;\">\n",
       "      <th></th>\n",
       "      <th>max_pitch</th>\n",
       "      <th>avg_pitch</th>\n",
       "      <th>var_pitch</th>\n",
       "      <th>harmonic</th>\n",
       "      <th>harmonic_var</th>\n",
       "      <th>percussive</th>\n",
       "      <th>percussive_var</th>\n",
       "      <th>Chroma_cens</th>\n",
       "      <th>Chroma_cens_var</th>\n",
       "      <th>chroma_stft_mean</th>\n",
       "      <th>chroma_stft_var</th>\n",
       "      <th>chroma_cqt_mean</th>\n",
       "      <th>chroma_cqt_var</th>\n",
       "      <th>label</th>\n",
       "    </tr>\n",
       "  </thead>\n",
       "  <tbody>\n",
       "    <tr>\n",
       "      <th>0</th>\n",
       "      <td>3989.072998</td>\n",
       "      <td>29.542696</td>\n",
       "      <td>74463.960938</td>\n",
       "      <td>1.135538e-08</td>\n",
       "      <td>0.000019</td>\n",
       "      <td>-2.912421e-07</td>\n",
       "      <td>0.000281</td>\n",
       "      <td>0.190124</td>\n",
       "      <td>0.047186</td>\n",
       "      <td>0.323848</td>\n",
       "      <td>0.137778</td>\n",
       "      <td>0.274534</td>\n",
       "      <td>0.088136</td>\n",
       "      <td>0</td>\n",
       "    </tr>\n",
       "    <tr>\n",
       "      <th>1</th>\n",
       "      <td>3994.850098</td>\n",
       "      <td>3.910675</td>\n",
       "      <td>5684.229980</td>\n",
       "      <td>-2.893094e-08</td>\n",
       "      <td>0.000001</td>\n",
       "      <td>6.930518e-08</td>\n",
       "      <td>0.000624</td>\n",
       "      <td>0.179645</td>\n",
       "      <td>0.051061</td>\n",
       "      <td>0.223615</td>\n",
       "      <td>0.089789</td>\n",
       "      <td>0.251805</td>\n",
       "      <td>0.077739</td>\n",
       "      <td>0</td>\n",
       "    </tr>\n",
       "    <tr>\n",
       "      <th>2</th>\n",
       "      <td>3963.264648</td>\n",
       "      <td>5.710739</td>\n",
       "      <td>8814.425781</td>\n",
       "      <td>6.755577e-08</td>\n",
       "      <td>0.000002</td>\n",
       "      <td>2.193846e-07</td>\n",
       "      <td>0.000669</td>\n",
       "      <td>0.188774</td>\n",
       "      <td>0.047698</td>\n",
       "      <td>0.233517</td>\n",
       "      <td>0.089279</td>\n",
       "      <td>0.267073</td>\n",
       "      <td>0.076455</td>\n",
       "      <td>0</td>\n",
       "    </tr>\n",
       "    <tr>\n",
       "      <th>3</th>\n",
       "      <td>3996.626221</td>\n",
       "      <td>4.415235</td>\n",
       "      <td>6323.502441</td>\n",
       "      <td>-2.250471e-08</td>\n",
       "      <td>0.000001</td>\n",
       "      <td>1.336368e-07</td>\n",
       "      <td>0.000434</td>\n",
       "      <td>0.187756</td>\n",
       "      <td>0.048081</td>\n",
       "      <td>0.241359</td>\n",
       "      <td>0.092649</td>\n",
       "      <td>0.264952</td>\n",
       "      <td>0.076354</td>\n",
       "      <td>0</td>\n",
       "    </tr>\n",
       "    <tr>\n",
       "      <th>4</th>\n",
       "      <td>3998.909912</td>\n",
       "      <td>111.539612</td>\n",
       "      <td>271196.625000</td>\n",
       "      <td>-3.782923e-08</td>\n",
       "      <td>0.000027</td>\n",
       "      <td>-7.602674e-07</td>\n",
       "      <td>0.000094</td>\n",
       "      <td>0.261148</td>\n",
       "      <td>0.015135</td>\n",
       "      <td>0.486430</td>\n",
       "      <td>0.092181</td>\n",
       "      <td>0.559479</td>\n",
       "      <td>0.090282</td>\n",
       "      <td>0</td>\n",
       "    </tr>\n",
       "  </tbody>\n",
       "</table>\n",
       "</div>"
      ],
      "text/plain": [
       "     max_pitch   avg_pitch      var_pitch      harmonic  harmonic_var  \\\n",
       "0  3989.072998   29.542696   74463.960938  1.135538e-08      0.000019   \n",
       "1  3994.850098    3.910675    5684.229980 -2.893094e-08      0.000001   \n",
       "2  3963.264648    5.710739    8814.425781  6.755577e-08      0.000002   \n",
       "3  3996.626221    4.415235    6323.502441 -2.250471e-08      0.000001   \n",
       "4  3998.909912  111.539612  271196.625000 -3.782923e-08      0.000027   \n",
       "\n",
       "     percussive  percussive_var  Chroma_cens  Chroma_cens_var  \\\n",
       "0 -2.912421e-07        0.000281     0.190124         0.047186   \n",
       "1  6.930518e-08        0.000624     0.179645         0.051061   \n",
       "2  2.193846e-07        0.000669     0.188774         0.047698   \n",
       "3  1.336368e-07        0.000434     0.187756         0.048081   \n",
       "4 -7.602674e-07        0.000094     0.261148         0.015135   \n",
       "\n",
       "   chroma_stft_mean  chroma_stft_var  chroma_cqt_mean  chroma_cqt_var  label  \n",
       "0          0.323848         0.137778         0.274534        0.088136      0  \n",
       "1          0.223615         0.089789         0.251805        0.077739      0  \n",
       "2          0.233517         0.089279         0.267073        0.076455      0  \n",
       "3          0.241359         0.092649         0.264952        0.076354      0  \n",
       "4          0.486430         0.092181         0.559479        0.090282      0  "
      ]
     },
     "execution_count": 19,
     "metadata": {},
     "output_type": "execute_result"
    }
   ],
   "source": [
    "df.head()"
   ]
  },
  {
   "cell_type": "code",
   "execution_count": 20,
   "id": "9749e6ce",
   "metadata": {},
   "outputs": [],
   "source": [
    "from sklearn.model_selection import train_test_split\n",
    "from sklearn import svm\n",
    "from sklearn.metrics import accuracy_score"
   ]
  },
  {
   "cell_type": "code",
   "execution_count": 21,
   "id": "9828b20e",
   "metadata": {},
   "outputs": [],
   "source": [
    "X_train = df.drop(columns='label',axis=1)\n",
    "Y_train = df['label'] "
   ]
  },
  {
   "cell_type": "code",
   "execution_count": 24,
   "id": "64972e3f",
   "metadata": {},
   "outputs": [
    {
     "data": {
      "text/plain": [
       "SVC(kernel='linear')"
      ]
     },
     "execution_count": 24,
     "metadata": {},
     "output_type": "execute_result"
    }
   ],
   "source": [
    "classifier = svm.SVC(kernel='linear')\n",
    "classifier.fit(X_train,Y_train)"
   ]
  },
  {
   "cell_type": "code",
   "execution_count": 25,
   "id": "a78a980d",
   "metadata": {},
   "outputs": [],
   "source": [
    "y_hat_train = classifier.predict(X_train)\n",
    "training_data_accuracy = accuracy_score(y_hat_train, Y_train)"
   ]
  },
  {
   "cell_type": "code",
   "execution_count": 26,
   "id": "8e9a85ea",
   "metadata": {},
   "outputs": [
    {
     "name": "stdout",
     "output_type": "stream",
     "text": [
      "Accuracy score of the training data :  0.5909090909090909\n"
     ]
    }
   ],
   "source": [
    "print('Accuracy score of the training data : ', training_data_accuracy)"
   ]
  },
  {
   "cell_type": "code",
   "execution_count": 27,
   "id": "f36c23c1",
   "metadata": {},
   "outputs": [
    {
     "name": "stderr",
     "output_type": "stream",
     "text": [
      "C:\\Users\\Misara\\anaconda3\\lib\\site-packages\\librosa\\util\\decorators.py:88: UserWarning: n_fft=1024 is too small for input signal of length=890\n",
      "  return f(*args, **kwargs)\n",
      "C:\\Users\\Misara\\anaconda3\\lib\\site-packages\\librosa\\util\\decorators.py:88: UserWarning: n_fft=1024 is too small for input signal of length=875\n",
      "  return f(*args, **kwargs)\n",
      "C:\\Users\\Misara\\anaconda3\\lib\\site-packages\\librosa\\util\\decorators.py:88: UserWarning: n_fft=1024 is too small for input signal of length=993\n",
      "  return f(*args, **kwargs)\n",
      "C:\\Users\\Misara\\anaconda3\\lib\\site-packages\\librosa\\util\\decorators.py:88: UserWarning: n_fft=1024 is too small for input signal of length=978\n",
      "  return f(*args, **kwargs)\n",
      "C:\\Users\\Misara\\anaconda3\\lib\\site-packages\\librosa\\util\\decorators.py:88: UserWarning: n_fft=1024 is too small for input signal of length=794\n",
      "  return f(*args, **kwargs)\n",
      "C:\\Users\\Misara\\anaconda3\\lib\\site-packages\\librosa\\util\\decorators.py:88: UserWarning: n_fft=1024 is too small for input signal of length=824\n",
      "  return f(*args, **kwargs)\n",
      "C:\\Users\\Misara\\anaconda3\\lib\\site-packages\\librosa\\util\\decorators.py:88: UserWarning: n_fft=1024 is too small for input signal of length=677\n",
      "  return f(*args, **kwargs)\n",
      "C:\\Users\\Misara\\anaconda3\\lib\\site-packages\\librosa\\util\\decorators.py:88: UserWarning: n_fft=1024 is too small for input signal of length=853\n",
      "  return f(*args, **kwargs)\n",
      "C:\\Users\\Misara\\anaconda3\\lib\\site-packages\\librosa\\util\\decorators.py:88: UserWarning: n_fft=1024 is too small for input signal of length=743\n",
      "  return f(*args, **kwargs)\n",
      "C:\\Users\\Misara\\anaconda3\\lib\\site-packages\\librosa\\util\\decorators.py:88: UserWarning: n_fft=1024 is too small for input signal of length=941\n",
      "  return f(*args, **kwargs)\n",
      "C:\\Users\\Misara\\anaconda3\\lib\\site-packages\\librosa\\util\\decorators.py:88: UserWarning: n_fft=1024 is too small for input signal of length=787\n",
      "  return f(*args, **kwargs)\n",
      "C:\\Users\\Misara\\anaconda3\\lib\\site-packages\\librosa\\util\\decorators.py:88: UserWarning: n_fft=1024 is too small for input signal of length=963\n",
      "  return f(*args, **kwargs)\n",
      "C:\\Users\\Misara\\anaconda3\\lib\\site-packages\\librosa\\util\\decorators.py:88: UserWarning: n_fft=1024 is too small for input signal of length=838\n",
      "  return f(*args, **kwargs)\n",
      "C:\\Users\\Misara\\anaconda3\\lib\\site-packages\\librosa\\util\\decorators.py:88: UserWarning: n_fft=1024 is too small for input signal of length=721\n",
      "  return f(*args, **kwargs)\n"
     ]
    }
   ],
   "source": [
    "path = \"/Partitiion/3rd Year/1st Term/DSP_Task3/Task'3/Dsp_Task_3/Wav/Test_2\"\n",
    "files = os.listdir(path)\n",
    "label =[]\n",
    "max_pitch = []\n",
    "avg_pitch = []\n",
    "var_pitch = []\n",
    "harmonic = []\n",
    "harmonic_var = []\n",
    "percussive = []\n",
    "percussive_var = []\n",
    "chroma=[]\n",
    "#print(np.mean(chroma))\n",
    "Chroma_cens = []\n",
    "Chroma_cens_var = []                   \n",
    "chroma_stft =[]\n",
    "chroma_stft_mean = []\n",
    "chroma_stft_var = []                       \n",
    "chroma_cqt =[]\n",
    "chroma_cqt_mean = []\n",
    "chroma_cqt_var = []\n",
    "for f in files:\n",
    "    if f[0] == 'A':\n",
    "        label.append(0)\n",
    "    elif f[0] == 'M':\n",
    "        label.append(1)\n",
    "    else:\n",
    "        label.append(2)\n",
    "    file_name = path+'/'+f\n",
    "    audio,sfreq = librosa.load(file_name)\n",
    "    S = np.abs(librosa.stft(audio))\n",
    "    pitches,magnitudes =librosa.core.piptrack(y = audio ,sr = sfreq)\n",
    "    #min_pitch = np.min(pitches)\n",
    "    max_pitch.append(np.max(pitches))\n",
    "    avg_pitch.append(np.mean(pitches))\n",
    "    var_pitch.append(np.var(pitches))\n",
    "    y_harmonic, y_percussive = librosa.effects.hpss(audio)\n",
    "    harmonic.append(np.mean(y_harmonic))\n",
    "    harmonic_var.append(np.var(y_harmonic))\n",
    "    percussive.append(np.mean(y_percussive))\n",
    "    percussive_var.append(np.var(y_percussive))\n",
    "    chroma=librosa.feature.chroma_cens(y=y_harmonic, sr=sfreq)\n",
    "    #print(np.mean(chroma))\n",
    "    Chroma_cens.append(np.mean(chroma))\n",
    "    Chroma_cens_var.append(np.var(chroma))                        \n",
    "    chroma_stft =librosa.feature.chroma_stft(y=y_harmonic, sr=sfreq)\n",
    "    chroma_stft_mean.append(np.mean(chroma_stft))\n",
    "    chroma_stft_var.append(np.var(chroma_stft))                        \n",
    "    chroma_cqt =librosa.feature.chroma_cqt(y=y_harmonic, sr=sfreq)\n",
    "    chroma_cqt_mean.append(np.mean(chroma_cqt))\n",
    "    chroma_cqt_var.append(np.var(chroma_cqt))"
   ]
  },
  {
   "cell_type": "code",
   "execution_count": 28,
   "id": "345f88a3",
   "metadata": {},
   "outputs": [],
   "source": [
    "df_t = pd.DataFrame({'max_pitch':max_pitch,'avg_pitch':avg_pitch,'var_pitch':var_pitch,'harmonic':harmonic,'harmonic_var':harmonic_var,'percussive':percussive,'percussive_var':percussive_var,'Chroma_cens':Chroma_cens,'Chroma_cens_var':Chroma_cens_var,'chroma_stft_mean':chroma_stft_mean,'chroma_stft_var':chroma_stft_var,'chroma_cqt_mean':chroma_cqt_mean,'chroma_cqt_var':chroma_cqt_var,'label':label})"
   ]
  },
  {
   "cell_type": "code",
   "execution_count": 29,
   "id": "0208b9b8",
   "metadata": {},
   "outputs": [],
   "source": [
    "X_test = df.drop(columns='label',axis=1)\n",
    "Y_test = df['label'] "
   ]
  },
  {
   "cell_type": "code",
   "execution_count": 30,
   "id": "08b6480a",
   "metadata": {},
   "outputs": [],
   "source": [
    "y_hat_test = classifier.predict(X_test)\n",
    "test_data_accuracy = accuracy_score(y_hat_test, Y_test)"
   ]
  },
  {
   "cell_type": "code",
   "execution_count": 31,
   "id": "d822c931",
   "metadata": {},
   "outputs": [
    {
     "name": "stdout",
     "output_type": "stream",
     "text": [
      "0.5909090909090909\n"
     ]
    }
   ],
   "source": [
    "print(test_data_accuracy)"
   ]
  },
  {
   "cell_type": "code",
   "execution_count": null,
   "id": "bd5b5c81",
   "metadata": {},
   "outputs": [],
   "source": []
  }
 ],
 "metadata": {
  "kernelspec": {
   "display_name": "Python 3",
   "language": "python",
   "name": "python3"
  },
  "language_info": {
   "codemirror_mode": {
    "name": "ipython",
    "version": 3
   },
   "file_extension": ".py",
   "mimetype": "text/x-python",
   "name": "python",
   "nbconvert_exporter": "python",
   "pygments_lexer": "ipython3",
   "version": "3.8.8"
  }
 },
 "nbformat": 4,
 "nbformat_minor": 5
}
